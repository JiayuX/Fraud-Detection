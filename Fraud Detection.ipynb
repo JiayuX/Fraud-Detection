{
 "cells": [
  {
   "cell_type": "markdown",
   "metadata": {},
   "source": [
    "# Fraud Detection"
   ]
  },
  {
   "cell_type": "markdown",
   "metadata": {},
   "source": [
    "Fraud detection is an import application of machine learning. Various machine mearning algorithms can be used to detect frauds (outliers, abnormal samples). Fraud detection can be done in either supervised learning and unsupervised learning. In this notebook, two supervised approaches (neural multipayer perceptron classifier and gradient boosting classifier) and two unsupervised approaches (isolation forest and antoencoder) are used to detect frauds in the credit card transaction data. The dataset is from Kaggle (https://www.kaggle.com/datasets/mlg-ulb/creditcardfraud)."
   ]
  },
  {
   "cell_type": "markdown",
   "metadata": {},
   "source": [
    "## Data Analysis & Preprocessing"
   ]
  },
  {
   "cell_type": "code",
   "execution_count": 185,
   "metadata": {
    "executionInfo": {
     "elapsed": 270,
     "status": "ok",
     "timestamp": 1640667650046,
     "user": {
      "displayName": "Dennis X",
      "photoUrl": "https://lh3.googleusercontent.com/a/default-user=s64",
      "userId": "07673593424094128995"
     },
     "user_tz": 300
    },
    "id": "Mb-BmSXK0od4"
   },
   "outputs": [],
   "source": [
    "import pandas as pd\n",
    "import numpy as np\n",
    "from pandas_profiling import ProfileReport\n",
    "%matplotlib inline\n",
    "import matplotlib.pyplot as plt\n",
    "from matplotlib import cm\n",
    "import seaborn as sns\n",
    "import random\n",
    "from sklearn.preprocessing import StandardScaler, MinMaxScaler\n",
    "from sklearn.compose import ColumnTransformer"
   ]
  },
  {
   "cell_type": "markdown",
   "metadata": {},
   "source": [
    "### Load in the data"
   ]
  },
  {
   "cell_type": "markdown",
   "metadata": {},
   "source": [
    "Load data and display the first 5 rows."
   ]
  },
  {
   "cell_type": "code",
   "execution_count": 186,
   "metadata": {},
   "outputs": [
    {
     "data": {
      "text/html": [
       "<div>\n",
       "<style scoped>\n",
       "    .dataframe tbody tr th:only-of-type {\n",
       "        vertical-align: middle;\n",
       "    }\n",
       "\n",
       "    .dataframe tbody tr th {\n",
       "        vertical-align: top;\n",
       "    }\n",
       "\n",
       "    .dataframe thead th {\n",
       "        text-align: right;\n",
       "    }\n",
       "</style>\n",
       "<table border=\"1\" class=\"dataframe\">\n",
       "  <thead>\n",
       "    <tr style=\"text-align: right;\">\n",
       "      <th></th>\n",
       "      <th>Time</th>\n",
       "      <th>V1</th>\n",
       "      <th>V2</th>\n",
       "      <th>V3</th>\n",
       "      <th>V4</th>\n",
       "      <th>V5</th>\n",
       "      <th>V6</th>\n",
       "      <th>V7</th>\n",
       "      <th>V8</th>\n",
       "      <th>V9</th>\n",
       "      <th>...</th>\n",
       "      <th>V21</th>\n",
       "      <th>V22</th>\n",
       "      <th>V23</th>\n",
       "      <th>V24</th>\n",
       "      <th>V25</th>\n",
       "      <th>V26</th>\n",
       "      <th>V27</th>\n",
       "      <th>V28</th>\n",
       "      <th>Amount</th>\n",
       "      <th>Class</th>\n",
       "    </tr>\n",
       "  </thead>\n",
       "  <tbody>\n",
       "    <tr>\n",
       "      <th>0</th>\n",
       "      <td>0.0</td>\n",
       "      <td>-1.359807</td>\n",
       "      <td>-0.072781</td>\n",
       "      <td>2.536347</td>\n",
       "      <td>1.378155</td>\n",
       "      <td>-0.338321</td>\n",
       "      <td>0.462388</td>\n",
       "      <td>0.239599</td>\n",
       "      <td>0.098698</td>\n",
       "      <td>0.363787</td>\n",
       "      <td>...</td>\n",
       "      <td>-0.018307</td>\n",
       "      <td>0.277838</td>\n",
       "      <td>-0.110474</td>\n",
       "      <td>0.066928</td>\n",
       "      <td>0.128539</td>\n",
       "      <td>-0.189115</td>\n",
       "      <td>0.133558</td>\n",
       "      <td>-0.021053</td>\n",
       "      <td>149.62</td>\n",
       "      <td>0</td>\n",
       "    </tr>\n",
       "    <tr>\n",
       "      <th>1</th>\n",
       "      <td>0.0</td>\n",
       "      <td>1.191857</td>\n",
       "      <td>0.266151</td>\n",
       "      <td>0.166480</td>\n",
       "      <td>0.448154</td>\n",
       "      <td>0.060018</td>\n",
       "      <td>-0.082361</td>\n",
       "      <td>-0.078803</td>\n",
       "      <td>0.085102</td>\n",
       "      <td>-0.255425</td>\n",
       "      <td>...</td>\n",
       "      <td>-0.225775</td>\n",
       "      <td>-0.638672</td>\n",
       "      <td>0.101288</td>\n",
       "      <td>-0.339846</td>\n",
       "      <td>0.167170</td>\n",
       "      <td>0.125895</td>\n",
       "      <td>-0.008983</td>\n",
       "      <td>0.014724</td>\n",
       "      <td>2.69</td>\n",
       "      <td>0</td>\n",
       "    </tr>\n",
       "    <tr>\n",
       "      <th>2</th>\n",
       "      <td>1.0</td>\n",
       "      <td>-1.358354</td>\n",
       "      <td>-1.340163</td>\n",
       "      <td>1.773209</td>\n",
       "      <td>0.379780</td>\n",
       "      <td>-0.503198</td>\n",
       "      <td>1.800499</td>\n",
       "      <td>0.791461</td>\n",
       "      <td>0.247676</td>\n",
       "      <td>-1.514654</td>\n",
       "      <td>...</td>\n",
       "      <td>0.247998</td>\n",
       "      <td>0.771679</td>\n",
       "      <td>0.909412</td>\n",
       "      <td>-0.689281</td>\n",
       "      <td>-0.327642</td>\n",
       "      <td>-0.139097</td>\n",
       "      <td>-0.055353</td>\n",
       "      <td>-0.059752</td>\n",
       "      <td>378.66</td>\n",
       "      <td>0</td>\n",
       "    </tr>\n",
       "    <tr>\n",
       "      <th>3</th>\n",
       "      <td>1.0</td>\n",
       "      <td>-0.966272</td>\n",
       "      <td>-0.185226</td>\n",
       "      <td>1.792993</td>\n",
       "      <td>-0.863291</td>\n",
       "      <td>-0.010309</td>\n",
       "      <td>1.247203</td>\n",
       "      <td>0.237609</td>\n",
       "      <td>0.377436</td>\n",
       "      <td>-1.387024</td>\n",
       "      <td>...</td>\n",
       "      <td>-0.108300</td>\n",
       "      <td>0.005274</td>\n",
       "      <td>-0.190321</td>\n",
       "      <td>-1.175575</td>\n",
       "      <td>0.647376</td>\n",
       "      <td>-0.221929</td>\n",
       "      <td>0.062723</td>\n",
       "      <td>0.061458</td>\n",
       "      <td>123.50</td>\n",
       "      <td>0</td>\n",
       "    </tr>\n",
       "    <tr>\n",
       "      <th>4</th>\n",
       "      <td>2.0</td>\n",
       "      <td>-1.158233</td>\n",
       "      <td>0.877737</td>\n",
       "      <td>1.548718</td>\n",
       "      <td>0.403034</td>\n",
       "      <td>-0.407193</td>\n",
       "      <td>0.095921</td>\n",
       "      <td>0.592941</td>\n",
       "      <td>-0.270533</td>\n",
       "      <td>0.817739</td>\n",
       "      <td>...</td>\n",
       "      <td>-0.009431</td>\n",
       "      <td>0.798278</td>\n",
       "      <td>-0.137458</td>\n",
       "      <td>0.141267</td>\n",
       "      <td>-0.206010</td>\n",
       "      <td>0.502292</td>\n",
       "      <td>0.219422</td>\n",
       "      <td>0.215153</td>\n",
       "      <td>69.99</td>\n",
       "      <td>0</td>\n",
       "    </tr>\n",
       "  </tbody>\n",
       "</table>\n",
       "<p>5 rows × 31 columns</p>\n",
       "</div>"
      ],
      "text/plain": [
       "   Time        V1        V2        V3        V4        V5        V6        V7  \\\n",
       "0   0.0 -1.359807 -0.072781  2.536347  1.378155 -0.338321  0.462388  0.239599   \n",
       "1   0.0  1.191857  0.266151  0.166480  0.448154  0.060018 -0.082361 -0.078803   \n",
       "2   1.0 -1.358354 -1.340163  1.773209  0.379780 -0.503198  1.800499  0.791461   \n",
       "3   1.0 -0.966272 -0.185226  1.792993 -0.863291 -0.010309  1.247203  0.237609   \n",
       "4   2.0 -1.158233  0.877737  1.548718  0.403034 -0.407193  0.095921  0.592941   \n",
       "\n",
       "         V8        V9  ...       V21       V22       V23       V24       V25  \\\n",
       "0  0.098698  0.363787  ... -0.018307  0.277838 -0.110474  0.066928  0.128539   \n",
       "1  0.085102 -0.255425  ... -0.225775 -0.638672  0.101288 -0.339846  0.167170   \n",
       "2  0.247676 -1.514654  ...  0.247998  0.771679  0.909412 -0.689281 -0.327642   \n",
       "3  0.377436 -1.387024  ... -0.108300  0.005274 -0.190321 -1.175575  0.647376   \n",
       "4 -0.270533  0.817739  ... -0.009431  0.798278 -0.137458  0.141267 -0.206010   \n",
       "\n",
       "        V26       V27       V28  Amount  Class  \n",
       "0 -0.189115  0.133558 -0.021053  149.62      0  \n",
       "1  0.125895 -0.008983  0.014724    2.69      0  \n",
       "2 -0.139097 -0.055353 -0.059752  378.66      0  \n",
       "3 -0.221929  0.062723  0.061458  123.50      0  \n",
       "4  0.502292  0.219422  0.215153   69.99      0  \n",
       "\n",
       "[5 rows x 31 columns]"
      ]
     },
     "execution_count": 186,
     "metadata": {},
     "output_type": "execute_result"
    }
   ],
   "source": [
    "df = pd.read_csv('./data/creditcard.csv')\n",
    "df.drop_duplicates(inplace = True)\n",
    "df.dropna(inplace = True)\n",
    "df.reset_index(drop = True, inplace = True)\n",
    "df.head(5)"
   ]
  },
  {
   "cell_type": "code",
   "execution_count": 187,
   "metadata": {
    "scrolled": true
   },
   "outputs": [
    {
     "name": "stdout",
     "output_type": "stream",
     "text": [
      "0    283253\n",
      "1       473\n",
      "Name: Class, dtype: int64\n"
     ]
    },
    {
     "data": {
      "image/png": "[encoded data removed]",
      "text/plain": [
       "<Figure size 480x320 with 1 Axes>"
      ]
     },
     "metadata": {
      "needs_background": "light"
     },
     "output_type": "display_data"
    }
   ],
   "source": [
    "nums = df['Class'].value_counts()\n",
    "print(nums)\n",
    "pos_num = nums.loc[1]\n",
    "plt.figure(dpi = 80)\n",
    "sns.countplot(data = df, x = 'Class')\n",
    "plt.show()"
   ]
  },
  {
   "cell_type": "markdown",
   "metadata": {},
   "source": [
    "We can see that there is 473 positive samples (fraudulent transaction) out of 283253 total transactions (0.167%). The data is extremely imbalanced."
   ]
  },
  {
   "cell_type": "code",
   "execution_count": 188,
   "metadata": {},
   "outputs": [
    {
     "data": {
      "image/png": "[encoded data removed]",
      "text/plain": [
       "<Figure size 1152x1152 with 30 Axes>"
      ]
     },
     "metadata": {
      "needs_background": "light"
     },
     "output_type": "display_data"
    }
   ],
   "source": [
    "df.hist(column = df.columns[:-1], figsize=(16,16))\n",
    "plt.tight_layout()\n",
    "plt.show()"
   ]
  },
  {
   "cell_type": "code",
   "execution_count": 189,
   "metadata": {
    "scrolled": true
   },
   "outputs": [
    {
     "data": {
      "text/html": [
       "<div>\n",
       "<style scoped>\n",
       "    .dataframe tbody tr th:only-of-type {\n",
       "        vertical-align: middle;\n",
       "    }\n",
       "\n",
       "    .dataframe tbody tr th {\n",
       "        vertical-align: top;\n",
       "    }\n",
       "\n",
       "    .dataframe thead th {\n",
       "        text-align: right;\n",
       "    }\n",
       "</style>\n",
       "<table border=\"1\" class=\"dataframe\">\n",
       "  <thead>\n",
       "    <tr style=\"text-align: right;\">\n",
       "      <th></th>\n",
       "      <th>mean</th>\n",
       "      <th>std</th>\n",
       "    </tr>\n",
       "  </thead>\n",
       "  <tbody>\n",
       "    <tr>\n",
       "      <th>Time</th>\n",
       "      <td>94811.077600</td>\n",
       "      <td>47481.047891</td>\n",
       "    </tr>\n",
       "    <tr>\n",
       "      <th>V1</th>\n",
       "      <td>0.005917</td>\n",
       "      <td>1.948026</td>\n",
       "    </tr>\n",
       "    <tr>\n",
       "      <th>V2</th>\n",
       "      <td>-0.004135</td>\n",
       "      <td>1.646703</td>\n",
       "    </tr>\n",
       "    <tr>\n",
       "      <th>V3</th>\n",
       "      <td>0.001613</td>\n",
       "      <td>1.508682</td>\n",
       "    </tr>\n",
       "    <tr>\n",
       "      <th>V4</th>\n",
       "      <td>-0.002966</td>\n",
       "      <td>1.414184</td>\n",
       "    </tr>\n",
       "    <tr>\n",
       "      <th>V5</th>\n",
       "      <td>0.001828</td>\n",
       "      <td>1.377008</td>\n",
       "    </tr>\n",
       "    <tr>\n",
       "      <th>V6</th>\n",
       "      <td>-0.001139</td>\n",
       "      <td>1.331931</td>\n",
       "    </tr>\n",
       "    <tr>\n",
       "      <th>V7</th>\n",
       "      <td>0.001801</td>\n",
       "      <td>1.227664</td>\n",
       "    </tr>\n",
       "    <tr>\n",
       "      <th>V8</th>\n",
       "      <td>-0.000854</td>\n",
       "      <td>1.179054</td>\n",
       "    </tr>\n",
       "    <tr>\n",
       "      <th>V9</th>\n",
       "      <td>-0.001596</td>\n",
       "      <td>1.095492</td>\n",
       "    </tr>\n",
       "    <tr>\n",
       "      <th>V10</th>\n",
       "      <td>-0.001441</td>\n",
       "      <td>1.076407</td>\n",
       "    </tr>\n",
       "    <tr>\n",
       "      <th>V11</th>\n",
       "      <td>0.000202</td>\n",
       "      <td>1.018720</td>\n",
       "    </tr>\n",
       "    <tr>\n",
       "      <th>V12</th>\n",
       "      <td>-0.000715</td>\n",
       "      <td>0.994674</td>\n",
       "    </tr>\n",
       "    <tr>\n",
       "      <th>V13</th>\n",
       "      <td>0.000603</td>\n",
       "      <td>0.995430</td>\n",
       "    </tr>\n",
       "    <tr>\n",
       "      <th>V14</th>\n",
       "      <td>0.000252</td>\n",
       "      <td>0.952215</td>\n",
       "    </tr>\n",
       "    <tr>\n",
       "      <th>V15</th>\n",
       "      <td>0.001043</td>\n",
       "      <td>0.914894</td>\n",
       "    </tr>\n",
       "    <tr>\n",
       "      <th>V16</th>\n",
       "      <td>0.001162</td>\n",
       "      <td>0.873696</td>\n",
       "    </tr>\n",
       "    <tr>\n",
       "      <th>V17</th>\n",
       "      <td>0.000170</td>\n",
       "      <td>0.842507</td>\n",
       "    </tr>\n",
       "    <tr>\n",
       "      <th>V18</th>\n",
       "      <td>0.001515</td>\n",
       "      <td>0.837378</td>\n",
       "    </tr>\n",
       "    <tr>\n",
       "      <th>V19</th>\n",
       "      <td>-0.000264</td>\n",
       "      <td>0.813379</td>\n",
       "    </tr>\n",
       "    <tr>\n",
       "      <th>V20</th>\n",
       "      <td>0.000187</td>\n",
       "      <td>0.769984</td>\n",
       "    </tr>\n",
       "    <tr>\n",
       "      <th>V21</th>\n",
       "      <td>-0.000371</td>\n",
       "      <td>0.723909</td>\n",
       "    </tr>\n",
       "    <tr>\n",
       "      <th>V22</th>\n",
       "      <td>-0.000015</td>\n",
       "      <td>0.724550</td>\n",
       "    </tr>\n",
       "    <tr>\n",
       "      <th>V23</th>\n",
       "      <td>0.000198</td>\n",
       "      <td>0.623702</td>\n",
       "    </tr>\n",
       "    <tr>\n",
       "      <th>V24</th>\n",
       "      <td>0.000214</td>\n",
       "      <td>0.605627</td>\n",
       "    </tr>\n",
       "    <tr>\n",
       "      <th>V25</th>\n",
       "      <td>-0.000232</td>\n",
       "      <td>0.521220</td>\n",
       "    </tr>\n",
       "    <tr>\n",
       "      <th>V26</th>\n",
       "      <td>0.000149</td>\n",
       "      <td>0.482053</td>\n",
       "    </tr>\n",
       "    <tr>\n",
       "      <th>V27</th>\n",
       "      <td>0.001763</td>\n",
       "      <td>0.395744</td>\n",
       "    </tr>\n",
       "    <tr>\n",
       "      <th>V28</th>\n",
       "      <td>0.000547</td>\n",
       "      <td>0.328027</td>\n",
       "    </tr>\n",
       "    <tr>\n",
       "      <th>Amount</th>\n",
       "      <td>88.472687</td>\n",
       "      <td>250.399437</td>\n",
       "    </tr>\n",
       "    <tr>\n",
       "      <th>Class</th>\n",
       "      <td>0.001667</td>\n",
       "      <td>0.040796</td>\n",
       "    </tr>\n",
       "  </tbody>\n",
       "</table>\n",
       "</div>"
      ],
      "text/plain": [
       "                mean           std\n",
       "Time    94811.077600  47481.047891\n",
       "V1          0.005917      1.948026\n",
       "V2         -0.004135      1.646703\n",
       "V3          0.001613      1.508682\n",
       "V4         -0.002966      1.414184\n",
       "V5          0.001828      1.377008\n",
       "V6         -0.001139      1.331931\n",
       "V7          0.001801      1.227664\n",
       "V8         -0.000854      1.179054\n",
       "V9         -0.001596      1.095492\n",
       "V10        -0.001441      1.076407\n",
       "V11         0.000202      1.018720\n",
       "V12        -0.000715      0.994674\n",
       "V13         0.000603      0.995430\n",
       "V14         0.000252      0.952215\n",
       "V15         0.001043      0.914894\n",
       "V16         0.001162      0.873696\n",
       "V17         0.000170      0.842507\n",
       "V18         0.001515      0.837378\n",
       "V19        -0.000264      0.813379\n",
       "V20         0.000187      0.769984\n",
       "V21        -0.000371      0.723909\n",
       "V22        -0.000015      0.724550\n",
       "V23         0.000198      0.623702\n",
       "V24         0.000214      0.605627\n",
       "V25        -0.000232      0.521220\n",
       "V26         0.000149      0.482053\n",
       "V27         0.001763      0.395744\n",
       "V28         0.000547      0.328027\n",
       "Amount     88.472687    250.399437\n",
       "Class       0.001667      0.040796"
      ]
     },
     "execution_count": 189,
     "metadata": {},
     "output_type": "execute_result"
    }
   ],
   "source": [
    "pd.DataFrame({'mean': df.mean(axis = 0).values, 'std': df.std(axis = 0).values}, index = df.columns)"
   ]
  },
  {
   "cell_type": "markdown",
   "metadata": {},
   "source": [
    "From the summary statistics of all the features shown above, we observe that all the principle components (from V1 to V28) are more or less at the same scale and are not far from zero mean and unit standard deviation. However, the ```Time``` and ```Amount``` features are at a much larger scale. Therefore, we standardize the ```Time``` and ```Amount``` features before applying any machine learning models."
   ]
  },
  {
   "cell_type": "code",
   "execution_count": 190,
   "metadata": {},
   "outputs": [],
   "source": [
    "class Scaler: \n",
    "    \n",
    "    def __init__(self, df, col_included):   \n",
    "        self.col_included = col_included     \n",
    "        self.scaler = StandardScaler()\n",
    "        self.scaler.fit(df[self.col_included])   \n",
    "        \n",
    "    def scale(self, df):\n",
    "        assert all(col in df.columns for col in self.col_included), 'df doesn\\'t contain all the columns to be transformed!'\n",
    "        df_scaled = df.copy()\n",
    "        col_scaled = pd.DataFrame(self.scaler.transform(df[self.col_included]), columns = self.col_included)\n",
    "        df_scaled[self.col_included] = col_scaled[self.col_included]\n",
    "        df_scaled = df_scaled[df.columns]\n",
    "        return df_scaled"
   ]
  },
  {
   "cell_type": "code",
   "execution_count": 191,
   "metadata": {},
   "outputs": [],
   "source": [
    "col_included = ['Time', 'Amount']\n",
    "\n",
    "scaler = Scaler(df, col_included)\n",
    "\n",
    "df_scaled = scaler.scale(df)"
   ]
  },
  {
   "cell_type": "code",
   "execution_count": 192,
   "metadata": {},
   "outputs": [
    {
     "data": {
      "text/html": [
       "<div>\n",
       "<style scoped>\n",
       "    .dataframe tbody tr th:only-of-type {\n",
       "        vertical-align: middle;\n",
       "    }\n",
       "\n",
       "    .dataframe tbody tr th {\n",
       "        vertical-align: top;\n",
       "    }\n",
       "\n",
       "    .dataframe thead th {\n",
       "        text-align: right;\n",
       "    }\n",
       "</style>\n",
       "<table border=\"1\" class=\"dataframe\">\n",
       "  <thead>\n",
       "    <tr style=\"text-align: right;\">\n",
       "      <th></th>\n",
       "      <th>Time</th>\n",
       "      <th>V1</th>\n",
       "      <th>V2</th>\n",
       "      <th>V3</th>\n",
       "      <th>V4</th>\n",
       "      <th>V5</th>\n",
       "      <th>V6</th>\n",
       "      <th>V7</th>\n",
       "      <th>V8</th>\n",
       "      <th>V9</th>\n",
       "      <th>...</th>\n",
       "      <th>V21</th>\n",
       "      <th>V22</th>\n",
       "      <th>V23</th>\n",
       "      <th>V24</th>\n",
       "      <th>V25</th>\n",
       "      <th>V26</th>\n",
       "      <th>V27</th>\n",
       "      <th>V28</th>\n",
       "      <th>Amount</th>\n",
       "      <th>Class</th>\n",
       "    </tr>\n",
       "  </thead>\n",
       "  <tbody>\n",
       "    <tr>\n",
       "      <th>0</th>\n",
       "      <td>0.0</td>\n",
       "      <td>-1.359807</td>\n",
       "      <td>-0.072781</td>\n",
       "      <td>2.536347</td>\n",
       "      <td>1.378155</td>\n",
       "      <td>-0.338321</td>\n",
       "      <td>0.462388</td>\n",
       "      <td>0.239599</td>\n",
       "      <td>0.098698</td>\n",
       "      <td>0.363787</td>\n",
       "      <td>...</td>\n",
       "      <td>-0.018307</td>\n",
       "      <td>0.277838</td>\n",
       "      <td>-0.110474</td>\n",
       "      <td>0.066928</td>\n",
       "      <td>0.128539</td>\n",
       "      <td>-0.189115</td>\n",
       "      <td>0.133558</td>\n",
       "      <td>-0.021053</td>\n",
       "      <td>149.62</td>\n",
       "      <td>0</td>\n",
       "    </tr>\n",
       "    <tr>\n",
       "      <th>1</th>\n",
       "      <td>0.0</td>\n",
       "      <td>1.191857</td>\n",
       "      <td>0.266151</td>\n",
       "      <td>0.166480</td>\n",
       "      <td>0.448154</td>\n",
       "      <td>0.060018</td>\n",
       "      <td>-0.082361</td>\n",
       "      <td>-0.078803</td>\n",
       "      <td>0.085102</td>\n",
       "      <td>-0.255425</td>\n",
       "      <td>...</td>\n",
       "      <td>-0.225775</td>\n",
       "      <td>-0.638672</td>\n",
       "      <td>0.101288</td>\n",
       "      <td>-0.339846</td>\n",
       "      <td>0.167170</td>\n",
       "      <td>0.125895</td>\n",
       "      <td>-0.008983</td>\n",
       "      <td>0.014724</td>\n",
       "      <td>2.69</td>\n",
       "      <td>0</td>\n",
       "    </tr>\n",
       "    <tr>\n",
       "      <th>2</th>\n",
       "      <td>1.0</td>\n",
       "      <td>-1.358354</td>\n",
       "      <td>-1.340163</td>\n",
       "      <td>1.773209</td>\n",
       "      <td>0.379780</td>\n",
       "      <td>-0.503198</td>\n",
       "      <td>1.800499</td>\n",
       "      <td>0.791461</td>\n",
       "      <td>0.247676</td>\n",
       "      <td>-1.514654</td>\n",
       "      <td>...</td>\n",
       "      <td>0.247998</td>\n",
       "      <td>0.771679</td>\n",
       "      <td>0.909412</td>\n",
       "      <td>-0.689281</td>\n",
       "      <td>-0.327642</td>\n",
       "      <td>-0.139097</td>\n",
       "      <td>-0.055353</td>\n",
       "      <td>-0.059752</td>\n",
       "      <td>378.66</td>\n",
       "      <td>0</td>\n",
       "    </tr>\n",
       "    <tr>\n",
       "      <th>3</th>\n",
       "      <td>1.0</td>\n",
       "      <td>-0.966272</td>\n",
       "      <td>-0.185226</td>\n",
       "      <td>1.792993</td>\n",
       "      <td>-0.863291</td>\n",
       "      <td>-0.010309</td>\n",
       "      <td>1.247203</td>\n",
       "      <td>0.237609</td>\n",
       "      <td>0.377436</td>\n",
       "      <td>-1.387024</td>\n",
       "      <td>...</td>\n",
       "      <td>-0.108300</td>\n",
       "      <td>0.005274</td>\n",
       "      <td>-0.190321</td>\n",
       "      <td>-1.175575</td>\n",
       "      <td>0.647376</td>\n",
       "      <td>-0.221929</td>\n",
       "      <td>0.062723</td>\n",
       "      <td>0.061458</td>\n",
       "      <td>123.50</td>\n",
       "      <td>0</td>\n",
       "    </tr>\n",
       "    <tr>\n",
       "      <th>4</th>\n",
       "      <td>2.0</td>\n",
       "      <td>-1.158233</td>\n",
       "      <td>0.877737</td>\n",
       "      <td>1.548718</td>\n",
       "      <td>0.403034</td>\n",
       "      <td>-0.407193</td>\n",
       "      <td>0.095921</td>\n",
       "      <td>0.592941</td>\n",
       "      <td>-0.270533</td>\n",
       "      <td>0.817739</td>\n",
       "      <td>...</td>\n",
       "      <td>-0.009431</td>\n",
       "      <td>0.798278</td>\n",
       "      <td>-0.137458</td>\n",
       "      <td>0.141267</td>\n",
       "      <td>-0.206010</td>\n",
       "      <td>0.502292</td>\n",
       "      <td>0.219422</td>\n",
       "      <td>0.215153</td>\n",
       "      <td>69.99</td>\n",
       "      <td>0</td>\n",
       "    </tr>\n",
       "  </tbody>\n",
       "</table>\n",
       "<p>5 rows × 31 columns</p>\n",
       "</div>"
      ],
      "text/plain": [
       "   Time        V1        V2        V3        V4        V5        V6        V7  \\\n",
       "0   0.0 -1.359807 -0.072781  2.536347  1.378155 -0.338321  0.462388  0.239599   \n",
       "1   0.0  1.191857  0.266151  0.166480  0.448154  0.060018 -0.082361 -0.078803   \n",
       "2   1.0 -1.358354 -1.340163  1.773209  0.379780 -0.503198  1.800499  0.791461   \n",
       "3   1.0 -0.966272 -0.185226  1.792993 -0.863291 -0.010309  1.247203  0.237609   \n",
       "4   2.0 -1.158233  0.877737  1.548718  0.403034 -0.407193  0.095921  0.592941   \n",
       "\n",
       "         V8        V9  ...       V21       V22       V23       V24       V25  \\\n",
       "0  0.098698  0.363787  ... -0.018307  0.277838 -0.110474  0.066928  0.128539   \n",
       "1  0.085102 -0.255425  ... -0.225775 -0.638672  0.101288 -0.339846  0.167170   \n",
       "2  0.247676 -1.514654  ...  0.247998  0.771679  0.909412 -0.689281 -0.327642   \n",
       "3  0.377436 -1.387024  ... -0.108300  0.005274 -0.190321 -1.175575  0.647376   \n",
       "4 -0.270533  0.817739  ... -0.009431  0.798278 -0.137458  0.141267 -0.206010   \n",
       "\n",
       "        V26       V27       V28  Amount  Class  \n",
       "0 -0.189115  0.133558 -0.021053  149.62      0  \n",
       "1  0.125895 -0.008983  0.014724    2.69      0  \n",
       "2 -0.139097 -0.055353 -0.059752  378.66      0  \n",
       "3 -0.221929  0.062723  0.061458  123.50      0  \n",
       "4  0.502292  0.219422  0.215153   69.99      0  \n",
       "\n",
       "[5 rows x 31 columns]"
      ]
     },
     "execution_count": 192,
     "metadata": {},
     "output_type": "execute_result"
    }
   ],
   "source": [
    "df.head()"
   ]
  },
  {
   "cell_type": "code",
   "execution_count": 193,
   "metadata": {},
   "outputs": [
    {
     "data": {
      "text/html": [
       "<div>\n",
       "<style scoped>\n",
       "    .dataframe tbody tr th:only-of-type {\n",
       "        vertical-align: middle;\n",
       "    }\n",
       "\n",
       "    .dataframe tbody tr th {\n",
       "        vertical-align: top;\n",
       "    }\n",
       "\n",
       "    .dataframe thead th {\n",
       "        text-align: right;\n",
       "    }\n",
       "</style>\n",
       "<table border=\"1\" class=\"dataframe\">\n",
       "  <thead>\n",
       "    <tr style=\"text-align: right;\">\n",
       "      <th></th>\n",
       "      <th>Time</th>\n",
       "      <th>V1</th>\n",
       "      <th>V2</th>\n",
       "      <th>V3</th>\n",
       "      <th>V4</th>\n",
       "      <th>V5</th>\n",
       "      <th>V6</th>\n",
       "      <th>V7</th>\n",
       "      <th>V8</th>\n",
       "      <th>V9</th>\n",
       "      <th>...</th>\n",
       "      <th>V21</th>\n",
       "      <th>V22</th>\n",
       "      <th>V23</th>\n",
       "      <th>V24</th>\n",
       "      <th>V25</th>\n",
       "      <th>V26</th>\n",
       "      <th>V27</th>\n",
       "      <th>V28</th>\n",
       "      <th>Amount</th>\n",
       "      <th>Class</th>\n",
       "    </tr>\n",
       "  </thead>\n",
       "  <tbody>\n",
       "    <tr>\n",
       "      <th>0</th>\n",
       "      <td>-1.996823</td>\n",
       "      <td>-1.359807</td>\n",
       "      <td>-0.072781</td>\n",
       "      <td>2.536347</td>\n",
       "      <td>1.378155</td>\n",
       "      <td>-0.338321</td>\n",
       "      <td>0.462388</td>\n",
       "      <td>0.239599</td>\n",
       "      <td>0.098698</td>\n",
       "      <td>0.363787</td>\n",
       "      <td>...</td>\n",
       "      <td>-0.018307</td>\n",
       "      <td>0.277838</td>\n",
       "      <td>-0.110474</td>\n",
       "      <td>0.066928</td>\n",
       "      <td>0.128539</td>\n",
       "      <td>-0.189115</td>\n",
       "      <td>0.133558</td>\n",
       "      <td>-0.021053</td>\n",
       "      <td>0.244200</td>\n",
       "      <td>0</td>\n",
       "    </tr>\n",
       "    <tr>\n",
       "      <th>1</th>\n",
       "      <td>-1.996823</td>\n",
       "      <td>1.191857</td>\n",
       "      <td>0.266151</td>\n",
       "      <td>0.166480</td>\n",
       "      <td>0.448154</td>\n",
       "      <td>0.060018</td>\n",
       "      <td>-0.082361</td>\n",
       "      <td>-0.078803</td>\n",
       "      <td>0.085102</td>\n",
       "      <td>-0.255425</td>\n",
       "      <td>...</td>\n",
       "      <td>-0.225775</td>\n",
       "      <td>-0.638672</td>\n",
       "      <td>0.101288</td>\n",
       "      <td>-0.339846</td>\n",
       "      <td>0.167170</td>\n",
       "      <td>0.125895</td>\n",
       "      <td>-0.008983</td>\n",
       "      <td>0.014724</td>\n",
       "      <td>-0.342584</td>\n",
       "      <td>0</td>\n",
       "    </tr>\n",
       "    <tr>\n",
       "      <th>2</th>\n",
       "      <td>-1.996802</td>\n",
       "      <td>-1.358354</td>\n",
       "      <td>-1.340163</td>\n",
       "      <td>1.773209</td>\n",
       "      <td>0.379780</td>\n",
       "      <td>-0.503198</td>\n",
       "      <td>1.800499</td>\n",
       "      <td>0.791461</td>\n",
       "      <td>0.247676</td>\n",
       "      <td>-1.514654</td>\n",
       "      <td>...</td>\n",
       "      <td>0.247998</td>\n",
       "      <td>0.771679</td>\n",
       "      <td>0.909412</td>\n",
       "      <td>-0.689281</td>\n",
       "      <td>-0.327642</td>\n",
       "      <td>-0.139097</td>\n",
       "      <td>-0.055353</td>\n",
       "      <td>-0.059752</td>\n",
       "      <td>1.158900</td>\n",
       "      <td>0</td>\n",
       "    </tr>\n",
       "    <tr>\n",
       "      <th>3</th>\n",
       "      <td>-1.996802</td>\n",
       "      <td>-0.966272</td>\n",
       "      <td>-0.185226</td>\n",
       "      <td>1.792993</td>\n",
       "      <td>-0.863291</td>\n",
       "      <td>-0.010309</td>\n",
       "      <td>1.247203</td>\n",
       "      <td>0.237609</td>\n",
       "      <td>0.377436</td>\n",
       "      <td>-1.387024</td>\n",
       "      <td>...</td>\n",
       "      <td>-0.108300</td>\n",
       "      <td>0.005274</td>\n",
       "      <td>-0.190321</td>\n",
       "      <td>-1.175575</td>\n",
       "      <td>0.647376</td>\n",
       "      <td>-0.221929</td>\n",
       "      <td>0.062723</td>\n",
       "      <td>0.061458</td>\n",
       "      <td>0.139886</td>\n",
       "      <td>0</td>\n",
       "    </tr>\n",
       "    <tr>\n",
       "      <th>4</th>\n",
       "      <td>-1.996781</td>\n",
       "      <td>-1.158233</td>\n",
       "      <td>0.877737</td>\n",
       "      <td>1.548718</td>\n",
       "      <td>0.403034</td>\n",
       "      <td>-0.407193</td>\n",
       "      <td>0.095921</td>\n",
       "      <td>0.592941</td>\n",
       "      <td>-0.270533</td>\n",
       "      <td>0.817739</td>\n",
       "      <td>...</td>\n",
       "      <td>-0.009431</td>\n",
       "      <td>0.798278</td>\n",
       "      <td>-0.137458</td>\n",
       "      <td>0.141267</td>\n",
       "      <td>-0.206010</td>\n",
       "      <td>0.502292</td>\n",
       "      <td>0.219422</td>\n",
       "      <td>0.215153</td>\n",
       "      <td>-0.073813</td>\n",
       "      <td>0</td>\n",
       "    </tr>\n",
       "  </tbody>\n",
       "</table>\n",
       "<p>5 rows × 31 columns</p>\n",
       "</div>"
      ],
      "text/plain": [
       "       Time        V1        V2        V3        V4        V5        V6  \\\n",
       "0 -1.996823 -1.359807 -0.072781  2.536347  1.378155 -0.338321  0.462388   \n",
       "1 -1.996823  1.191857  0.266151  0.166480  0.448154  0.060018 -0.082361   \n",
       "2 -1.996802 -1.358354 -1.340163  1.773209  0.379780 -0.503198  1.800499   \n",
       "3 -1.996802 -0.966272 -0.185226  1.792993 -0.863291 -0.010309  1.247203   \n",
       "4 -1.996781 -1.158233  0.877737  1.548718  0.403034 -0.407193  0.095921   \n",
       "\n",
       "         V7        V8        V9  ...       V21       V22       V23       V24  \\\n",
       "0  0.239599  0.098698  0.363787  ... -0.018307  0.277838 -0.110474  0.066928   \n",
       "1 -0.078803  0.085102 -0.255425  ... -0.225775 -0.638672  0.101288 -0.339846   \n",
       "2  0.791461  0.247676 -1.514654  ...  0.247998  0.771679  0.909412 -0.689281   \n",
       "3  0.237609  0.377436 -1.387024  ... -0.108300  0.005274 -0.190321 -1.175575   \n",
       "4  0.592941 -0.270533  0.817739  ... -0.009431  0.798278 -0.137458  0.141267   \n",
       "\n",
       "        V25       V26       V27       V28    Amount  Class  \n",
       "0  0.128539 -0.189115  0.133558 -0.021053  0.244200      0  \n",
       "1  0.167170  0.125895 -0.008983  0.014724 -0.342584      0  \n",
       "2 -0.327642 -0.139097 -0.055353 -0.059752  1.158900      0  \n",
       "3  0.647376 -0.221929  0.062723  0.061458  0.139886      0  \n",
       "4 -0.206010  0.502292  0.219422  0.215153 -0.073813      0  \n",
       "\n",
       "[5 rows x 31 columns]"
      ]
     },
     "execution_count": 193,
     "metadata": {},
     "output_type": "execute_result"
    }
   ],
   "source": [
    "df_scaled.head()"
   ]
  },
  {
   "cell_type": "markdown",
   "metadata": {},
   "source": [
    "## Supervised Learning Approach"
   ]
  },
  {
   "cell_type": "markdown",
   "metadata": {},
   "source": [
    "### Data preparation"
   ]
  },
  {
   "cell_type": "code",
   "execution_count": 194,
   "metadata": {},
   "outputs": [],
   "source": [
    "from sklearn.model_selection import train_test_split"
   ]
  },
  {
   "cell_type": "markdown",
   "metadata": {},
   "source": [
    "For supervised machine learning model, in order to have a balanced training dataset, we undersample the data. Concretely, we firstly sample 80% of the positive samples (that is 0.8 * 473 = 378) and the same amount of negative samples (378) to form a balanced training + val set. The rest of the data is used as the test set. Then we split 10% data out from the training + val set to be the val data and the rest 90% is the training data."
   ]
  },
  {
   "cell_type": "code",
   "execution_count": 195,
   "metadata": {},
   "outputs": [],
   "source": [
    "def data_split_undersampling(df):\n",
    "    \"\"\"\n",
    "            Undersample the data such that: \n",
    "        train + val: 80% of the positive samples and the same number of negative samples\n",
    "        test: the rest of the positive and negative samples\n",
    "        where positive samples are outliers and negative samples are inliers.\n",
    "    \"\"\"\n",
    "    df_pos = df[df['Class'] == 1]\n",
    "    df_neg = df[df['Class'] == 0]\n",
    "    df_test = df_pos.sample(frac = 0.2)\n",
    "    df_train_val = df_pos.drop(df_test.index)\n",
    "    num_pos_train_val = len(df_train_val)\n",
    "    df_train_val_neg = df_neg.sample(num_pos_train_val)\n",
    "    df_train_val = pd.concat([df_train_val, df_train_val_neg])\n",
    "    df_test = pd.concat([df_test, df_neg.drop(df_train_val_neg.index)])\n",
    "    return df_train_val, df_test"
   ]
  },
  {
   "cell_type": "code",
   "execution_count": 196,
   "metadata": {
    "scrolled": true
   },
   "outputs": [
    {
     "name": "stdout",
     "output_type": "stream",
     "text": [
      "The number of training&val samples: 756, with 378 positive and 378 negative\n",
      "The number of test samples: 282970, with 95 positive and 282875 negative\n"
     ]
    }
   ],
   "source": [
    "df_train_val, df_test = data_split_undersampling(df_scaled)\n",
    "print(f\"The number of training&val samples: {len(df_train_val)}, with {len(df_train_val[df_train_val['Class'] == 1])} positive and {len(df_train_val[df_train_val['Class'] == 0])} negative\")\n",
    "print(f\"The number of test samples: {len(df_test)}, with {len(df_test[df_test['Class'] == 1])} positive and {len(df_test[df_test['Class'] == 0])} negative\")\n"
   ]
  },
  {
   "cell_type": "code",
   "execution_count": 197,
   "metadata": {},
   "outputs": [
    {
     "name": "stdout",
     "output_type": "stream",
     "text": [
      "The number of training samples: 680, the number of val samples: 76\n"
     ]
    }
   ],
   "source": [
    "X_train_val = df_train_val.drop(columns = ['Class'])\n",
    "y_train_val = df_train_val['Class']\n",
    "X_train, X_val, y_train, y_val = train_test_split(X_train_val, y_train_val, test_size = 0.1, random_state = 42)\n",
    "X_test = df_test.drop(columns = ['Class'])\n",
    "y_test = df_test['Class']\n",
    "print(f\"The number of training samples: {len(X_train)}, the number of val samples: {len(X_val)}\")\n"
   ]
  },
  {
   "cell_type": "markdown",
   "metadata": {},
   "source": [
    "### Neural network"
   ]
  },
  {
   "cell_type": "code",
   "execution_count": 198,
   "metadata": {},
   "outputs": [],
   "source": [
    "import tensorflow as tf\n",
    "from keras.models import Model\n",
    "from keras.layers import Input, Dense, Dropout\n",
    "from sklearn.metrics import accuracy_score, recall_score, precision_score, f1_score, confusion_matrix"
   ]
  },
  {
   "cell_type": "markdown",
   "metadata": {},
   "source": [
    "We build a neural network classifier composed of multilayer perceptrons to classify the positive and negative samples. The training set is fed to the network for training and val set is used to evaluate the performance of the network during training. The test set is used to finally evaluate the network after training."
   ]
  },
  {
   "cell_type": "code",
   "execution_count": 199,
   "metadata": {
    "scrolled": true
   },
   "outputs": [
    {
     "name": "stdout",
     "output_type": "stream",
     "text": [
      "Model: \"model_15\"\n",
      "_________________________________________________________________\n",
      "Layer (type)                 Output Shape              Param #   \n",
      "=================================================================\n",
      "input_16 (InputLayer)        [(None, 30)]              0         \n",
      "_________________________________________________________________\n",
      "dense_52 (Dense)             (None, 4)                 124       \n",
      "_________________________________________________________________\n",
      "dropout_25 (Dropout)         (None, 4)                 0         \n",
      "_________________________________________________________________\n",
      "dense_53 (Dense)             (None, 1)                 5         \n",
      "=================================================================\n",
      "Total params: 129\n",
      "Trainable params: 129\n",
      "Non-trainable params: 0\n",
      "_________________________________________________________________\n",
      "None\n"
     ]
    }
   ],
   "source": [
    "inputs = Input(shape = (30,))\n",
    "hidden = Dense(16, activation = 'relu')(inputs)\n",
    "hidden = Dense(8, activation = 'relu')(inputs)\n",
    "hidden = Dropout(0.2)(hidden)\n",
    "hidden = Dense(4, activation = 'relu')(inputs)\n",
    "hidden = Dropout(0.2)(hidden)\n",
    "outputs = Dense(1, activation = 'sigmoid')(hidden)\n",
    "model = Model(inputs = inputs, outputs = outputs)\n",
    "\n",
    "print(model.summary())"
   ]
  },
  {
   "cell_type": "code",
   "execution_count": 200,
   "metadata": {
    "scrolled": true
   },
   "outputs": [],
   "source": [
    "loss = tf.keras.losses.BinaryCrossentropy()\n",
    "metrics = tf.keras.metrics.BinaryAccuracy()\n",
    "model.compile(optimizer = 'adam', loss = loss, metrics = [metrics])"
   ]
  },
  {
   "cell_type": "code",
   "execution_count": 201,
   "metadata": {
    "scrolled": true
   },
   "outputs": [
    {
     "name": "stdout",
     "output_type": "stream",
     "text": [
      "Epoch 1/200\n",
      "22/22 [==============================] - 1s 16ms/step - loss: 0.7721 - binary_accuracy: 0.6154 - val_loss: 0.7163 - val_binary_accuracy: 0.6162\n",
      "Epoch 2/200\n",
      "22/22 [==============================] - 0s 2ms/step - loss: 0.6580 - binary_accuracy: 0.6271 - val_loss: 0.6697 - val_binary_accuracy: 0.6429\n",
      "Epoch 3/200\n",
      "22/22 [==============================] - 0s 2ms/step - loss: 0.5846 - binary_accuracy: 0.6475 - val_loss: 0.6333 - val_binary_accuracy: 0.6546\n",
      "Epoch 4/200\n",
      "22/22 [==============================] - 0s 2ms/step - loss: 0.5249 - binary_accuracy: 0.6588 - val_loss: 0.6025 - val_binary_accuracy: 0.6639\n",
      "Epoch 5/200\n",
      "22/22 [==============================] - 0s 2ms/step - loss: 0.5472 - binary_accuracy: 0.6665 - val_loss: 0.5727 - val_binary_accuracy: 0.6718\n",
      "Epoch 6/200\n",
      "22/22 [==============================] - 0s 2ms/step - loss: 0.4980 - binary_accuracy: 0.6744 - val_loss: 0.5477 - val_binary_accuracy: 0.6786\n",
      "Epoch 7/200\n",
      "22/22 [==============================] - 0s 2ms/step - loss: 0.4561 - binary_accuracy: 0.6811 - val_loss: 0.5239 - val_binary_accuracy: 0.6865\n",
      "Epoch 8/200\n",
      "22/22 [==============================] - 0s 3ms/step - loss: 0.4328 - binary_accuracy: 0.6892 - val_loss: 0.5030 - val_binary_accuracy: 0.6964\n",
      "Epoch 9/200\n",
      "22/22 [==============================] - 0s 3ms/step - loss: 0.4634 - binary_accuracy: 0.6981 - val_loss: 0.4843 - val_binary_accuracy: 0.7029\n",
      "Epoch 10/200\n",
      "22/22 [==============================] - 0s 2ms/step - loss: 0.4160 - binary_accuracy: 0.7057 - val_loss: 0.4694 - val_binary_accuracy: 0.7116\n",
      "Epoch 11/200\n",
      "22/22 [==============================] - 0s 2ms/step - loss: 0.3741 - binary_accuracy: 0.7143 - val_loss: 0.4556 - val_binary_accuracy: 0.7202\n",
      "Epoch 12/200\n",
      "22/22 [==============================] - 0s 2ms/step - loss: 0.3929 - binary_accuracy: 0.7223 - val_loss: 0.4426 - val_binary_accuracy: 0.7282\n",
      "Epoch 13/200\n",
      "22/22 [==============================] - 0s 3ms/step - loss: 0.3465 - binary_accuracy: 0.7308 - val_loss: 0.4317 - val_binary_accuracy: 0.7365\n",
      "Epoch 14/200\n",
      "22/22 [==============================] - 0s 2ms/step - loss: 0.3755 - binary_accuracy: 0.7390 - val_loss: 0.4216 - val_binary_accuracy: 0.7437\n",
      "Epoch 15/200\n",
      "22/22 [==============================] - 0s 2ms/step - loss: 0.3291 - binary_accuracy: 0.7462 - val_loss: 0.4098 - val_binary_accuracy: 0.7509\n",
      "Epoch 16/200\n",
      "22/22 [==============================] - 0s 2ms/step - loss: 0.3192 - binary_accuracy: 0.7530 - val_loss: 0.4007 - val_binary_accuracy: 0.7583\n",
      "Epoch 17/200\n",
      "22/22 [==============================] - 0s 2ms/step - loss: 0.3138 - binary_accuracy: 0.7608 - val_loss: 0.3898 - val_binary_accuracy: 0.7651\n",
      "Epoch 18/200\n",
      "22/22 [==============================] - 0s 2ms/step - loss: 0.3077 - binary_accuracy: 0.7671 - val_loss: 0.3825 - val_binary_accuracy: 0.7713\n",
      "Epoch 19/200\n",
      "22/22 [==============================] - 0s 2ms/step - loss: 0.3538 - binary_accuracy: 0.7729 - val_loss: 0.3755 - val_binary_accuracy: 0.7765\n",
      "Epoch 20/200\n",
      "22/22 [==============================] - 0s 2ms/step - loss: 0.3080 - binary_accuracy: 0.7785 - val_loss: 0.3679 - val_binary_accuracy: 0.7822\n",
      "Epoch 21/200\n",
      "22/22 [==============================] - 0s 2ms/step - loss: 0.3061 - binary_accuracy: 0.7837 - val_loss: 0.3621 - val_binary_accuracy: 0.7876\n",
      "Epoch 22/200\n",
      "22/22 [==============================] - 0s 2ms/step - loss: 0.2895 - binary_accuracy: 0.7892 - val_loss: 0.3557 - val_binary_accuracy: 0.7926\n",
      "Epoch 23/200\n",
      "22/22 [==============================] - 0s 2ms/step - loss: 0.3022 - binary_accuracy: 0.7941 - val_loss: 0.3485 - val_binary_accuracy: 0.7972\n",
      "Epoch 24/200\n",
      "22/22 [==============================] - 0s 2ms/step - loss: 0.3424 - binary_accuracy: 0.7983 - val_loss: 0.3409 - val_binary_accuracy: 0.8017\n",
      "Epoch 25/200\n",
      "22/22 [==============================] - 0s 2ms/step - loss: 0.3065 - binary_accuracy: 0.8030 - val_loss: 0.3355 - val_binary_accuracy: 0.8062\n",
      "Epoch 26/200\n",
      "22/22 [==============================] - 0s 2ms/step - loss: 0.2736 - binary_accuracy: 0.8076 - val_loss: 0.3312 - val_binary_accuracy: 0.8102\n",
      "Epoch 27/200\n",
      "22/22 [==============================] - 0s 2ms/step - loss: 0.2780 - binary_accuracy: 0.8115 - val_loss: 0.3249 - val_binary_accuracy: 0.8144\n",
      "Epoch 28/200\n",
      "22/22 [==============================] - 0s 2ms/step - loss: 0.2643 - binary_accuracy: 0.8154 - val_loss: 0.3198 - val_binary_accuracy: 0.8182\n",
      "Epoch 29/200\n",
      "22/22 [==============================] - 0s 2ms/step - loss: 0.2856 - binary_accuracy: 0.8191 - val_loss: 0.3137 - val_binary_accuracy: 0.8215\n",
      "Epoch 30/200\n",
      "22/22 [==============================] - 0s 2ms/step - loss: 0.2821 - binary_accuracy: 0.8225 - val_loss: 0.3091 - val_binary_accuracy: 0.8248\n",
      "Epoch 31/200\n",
      "22/22 [==============================] - 0s 2ms/step - loss: 0.2664 - binary_accuracy: 0.8259 - val_loss: 0.3042 - val_binary_accuracy: 0.8282\n",
      "Epoch 32/200\n",
      "22/22 [==============================] - 0s 2ms/step - loss: 0.2421 - binary_accuracy: 0.8292 - val_loss: 0.3006 - val_binary_accuracy: 0.8314\n",
      "Epoch 33/200\n",
      "22/22 [==============================] - 0s 2ms/step - loss: 0.2692 - binary_accuracy: 0.8321 - val_loss: 0.2949 - val_binary_accuracy: 0.8343\n",
      "Epoch 34/200\n",
      "22/22 [==============================] - 0s 2ms/step - loss: 0.2664 - binary_accuracy: 0.8350 - val_loss: 0.2912 - val_binary_accuracy: 0.8369\n",
      "Epoch 35/200\n",
      "22/22 [==============================] - 0s 2ms/step - loss: 0.2507 - binary_accuracy: 0.8376 - val_loss: 0.2862 - val_binary_accuracy: 0.8396\n",
      "Epoch 36/200\n",
      "22/22 [==============================] - 0s 2ms/step - loss: 0.2246 - binary_accuracy: 0.8404 - val_loss: 0.2813 - val_binary_accuracy: 0.8423\n",
      "Epoch 37/200\n",
      "22/22 [==============================] - 0s 2ms/step - loss: 0.2567 - binary_accuracy: 0.8429 - val_loss: 0.2764 - val_binary_accuracy: 0.8448\n",
      "Epoch 38/200\n",
      "22/22 [==============================] - 0s 2ms/step - loss: 0.2398 - binary_accuracy: 0.8455 - val_loss: 0.2742 - val_binary_accuracy: 0.8470\n",
      "Epoch 39/200\n",
      "22/22 [==============================] - 0s 2ms/step - loss: 0.2435 - binary_accuracy: 0.8478 - val_loss: 0.2726 - val_binary_accuracy: 0.8494\n",
      "Epoch 40/200\n",
      "22/22 [==============================] - 0s 2ms/step - loss: 0.2583 - binary_accuracy: 0.8499 - val_loss: 0.2658 - val_binary_accuracy: 0.8516\n",
      "Epoch 41/200\n",
      "22/22 [==============================] - 0s 2ms/step - loss: 0.2441 - binary_accuracy: 0.8522 - val_loss: 0.2610 - val_binary_accuracy: 0.8538\n",
      "Epoch 42/200\n",
      "22/22 [==============================] - 0s 2ms/step - loss: 0.2294 - binary_accuracy: 0.8544 - val_loss: 0.2594 - val_binary_accuracy: 0.8559\n",
      "Epoch 43/200\n",
      "22/22 [==============================] - 0s 2ms/step - loss: 0.2140 - binary_accuracy: 0.8565 - val_loss: 0.2559 - val_binary_accuracy: 0.8577\n",
      "Epoch 44/200\n",
      "22/22 [==============================] - 0s 2ms/step - loss: 0.2246 - binary_accuracy: 0.8583 - val_loss: 0.2527 - val_binary_accuracy: 0.8596\n",
      "Epoch 45/200\n",
      "22/22 [==============================] - 0s 2ms/step - loss: 0.2240 - binary_accuracy: 0.8601 - val_loss: 0.2486 - val_binary_accuracy: 0.8613\n",
      "Epoch 46/200\n",
      "22/22 [==============================] - 0s 2ms/step - loss: 0.2233 - binary_accuracy: 0.8617 - val_loss: 0.2465 - val_binary_accuracy: 0.8630\n",
      "Epoch 47/200\n",
      "22/22 [==============================] - 0s 2ms/step - loss: 0.2003 - binary_accuracy: 0.8634 - val_loss: 0.2447 - val_binary_accuracy: 0.8646\n",
      "Epoch 48/200\n",
      "22/22 [==============================] - 0s 2ms/step - loss: 0.1876 - binary_accuracy: 0.8652 - val_loss: 0.2445 - val_binary_accuracy: 0.8662\n",
      "Epoch 49/200\n",
      "22/22 [==============================] - 0s 2ms/step - loss: 0.2283 - binary_accuracy: 0.8666 - val_loss: 0.2395 - val_binary_accuracy: 0.8677\n",
      "Epoch 50/200\n",
      "22/22 [==============================] - 0s 2ms/step - loss: 0.2397 - binary_accuracy: 0.8680 - val_loss: 0.2356 - val_binary_accuracy: 0.8691\n",
      "Epoch 51/200\n",
      "22/22 [==============================] - 0s 2ms/step - loss: 0.1937 - binary_accuracy: 0.8695 - val_loss: 0.2331 - val_binary_accuracy: 0.8705\n",
      "Epoch 52/200\n",
      "22/22 [==============================] - 0s 2ms/step - loss: 0.2093 - binary_accuracy: 0.8709 - val_loss: 0.2332 - val_binary_accuracy: 0.8717\n",
      "Epoch 53/200\n"
     ]
    },
    {
     "name": "stdout",
     "output_type": "stream",
     "text": [
      "22/22 [==============================] - 0s 2ms/step - loss: 0.2024 - binary_accuracy: 0.8721 - val_loss: 0.2313 - val_binary_accuracy: 0.8731\n",
      "Epoch 54/200\n",
      "22/22 [==============================] - 0s 2ms/step - loss: 0.2181 - binary_accuracy: 0.8734 - val_loss: 0.2283 - val_binary_accuracy: 0.8743\n",
      "Epoch 55/200\n",
      "22/22 [==============================] - 0s 2ms/step - loss: 0.1851 - binary_accuracy: 0.8747 - val_loss: 0.2267 - val_binary_accuracy: 0.8755\n",
      "Epoch 56/200\n",
      "22/22 [==============================] - 0s 2ms/step - loss: 0.2157 - binary_accuracy: 0.8757 - val_loss: 0.2249 - val_binary_accuracy: 0.8765\n",
      "Epoch 57/200\n",
      "22/22 [==============================] - 0s 2ms/step - loss: 0.1990 - binary_accuracy: 0.8768 - val_loss: 0.2220 - val_binary_accuracy: 0.8776\n",
      "Epoch 58/200\n",
      "22/22 [==============================] - 0s 2ms/step - loss: 0.2014 - binary_accuracy: 0.8778 - val_loss: 0.2204 - val_binary_accuracy: 0.8786\n",
      "Epoch 59/200\n",
      "22/22 [==============================] - 0s 2ms/step - loss: 0.1965 - binary_accuracy: 0.8789 - val_loss: 0.2164 - val_binary_accuracy: 0.8796\n",
      "Epoch 60/200\n",
      "22/22 [==============================] - 0s 2ms/step - loss: 0.2233 - binary_accuracy: 0.8799 - val_loss: 0.2128 - val_binary_accuracy: 0.8807\n",
      "Epoch 61/200\n",
      "22/22 [==============================] - 0s 2ms/step - loss: 0.1934 - binary_accuracy: 0.8810 - val_loss: 0.2092 - val_binary_accuracy: 0.8817\n",
      "Epoch 62/200\n",
      "22/22 [==============================] - 0s 2ms/step - loss: 0.1604 - binary_accuracy: 0.8821 - val_loss: 0.2081 - val_binary_accuracy: 0.8827\n",
      "Epoch 63/200\n",
      "22/22 [==============================] - 0s 2ms/step - loss: 0.1780 - binary_accuracy: 0.8830 - val_loss: 0.2059 - val_binary_accuracy: 0.8837\n",
      "Epoch 64/200\n",
      "22/22 [==============================] - 0s 2ms/step - loss: 0.1834 - binary_accuracy: 0.8839 - val_loss: 0.2041 - val_binary_accuracy: 0.8846\n",
      "Epoch 65/200\n",
      "22/22 [==============================] - 0s 2ms/step - loss: 0.1837 - binary_accuracy: 0.8848 - val_loss: 0.2022 - val_binary_accuracy: 0.8855\n",
      "Epoch 66/200\n",
      "22/22 [==============================] - 0s 2ms/step - loss: 0.1928 - binary_accuracy: 0.8857 - val_loss: 0.2002 - val_binary_accuracy: 0.8863\n",
      "Epoch 67/200\n",
      "22/22 [==============================] - 0s 2ms/step - loss: 0.1888 - binary_accuracy: 0.8865 - val_loss: 0.1997 - val_binary_accuracy: 0.8871\n",
      "Epoch 68/200\n",
      "22/22 [==============================] - 0s 2ms/step - loss: 0.1636 - binary_accuracy: 0.8873 - val_loss: 0.1977 - val_binary_accuracy: 0.8879\n",
      "Epoch 69/200\n",
      "22/22 [==============================] - 0s 2ms/step - loss: 0.1718 - binary_accuracy: 0.8882 - val_loss: 0.1966 - val_binary_accuracy: 0.8887\n",
      "Epoch 70/200\n",
      "22/22 [==============================] - 0s 2ms/step - loss: 0.1892 - binary_accuracy: 0.8889 - val_loss: 0.1973 - val_binary_accuracy: 0.8894\n",
      "Epoch 71/200\n",
      "22/22 [==============================] - 0s 2ms/step - loss: 0.1867 - binary_accuracy: 0.8896 - val_loss: 0.1964 - val_binary_accuracy: 0.8901\n",
      "Epoch 72/200\n",
      "22/22 [==============================] - 0s 2ms/step - loss: 0.1551 - binary_accuracy: 0.8904 - val_loss: 0.1935 - val_binary_accuracy: 0.8909\n",
      "Epoch 73/200\n",
      "22/22 [==============================] - 0s 2ms/step - loss: 0.1746 - binary_accuracy: 0.8911 - val_loss: 0.1942 - val_binary_accuracy: 0.8915\n",
      "Epoch 74/200\n",
      "22/22 [==============================] - 0s 2ms/step - loss: 0.1645 - binary_accuracy: 0.8917 - val_loss: 0.1917 - val_binary_accuracy: 0.8921\n",
      "Epoch 75/200\n",
      "22/22 [==============================] - 0s 2ms/step - loss: 0.1728 - binary_accuracy: 0.8923 - val_loss: 0.1882 - val_binary_accuracy: 0.8928\n",
      "Epoch 76/200\n",
      "22/22 [==============================] - 0s 2ms/step - loss: 0.1654 - binary_accuracy: 0.8930 - val_loss: 0.1881 - val_binary_accuracy: 0.8934\n",
      "Epoch 77/200\n",
      "22/22 [==============================] - 0s 2ms/step - loss: 0.1690 - binary_accuracy: 0.8936 - val_loss: 0.1884 - val_binary_accuracy: 0.8940\n",
      "Epoch 78/200\n",
      "22/22 [==============================] - 0s 2ms/step - loss: 0.1768 - binary_accuracy: 0.8942 - val_loss: 0.1865 - val_binary_accuracy: 0.8946\n",
      "Epoch 79/200\n",
      "22/22 [==============================] - 0s 2ms/step - loss: 0.1602 - binary_accuracy: 0.8947 - val_loss: 0.1865 - val_binary_accuracy: 0.8951\n",
      "Epoch 80/200\n",
      "22/22 [==============================] - 0s 2ms/step - loss: 0.1662 - binary_accuracy: 0.8953 - val_loss: 0.1858 - val_binary_accuracy: 0.8957\n",
      "Epoch 81/200\n",
      "22/22 [==============================] - 0s 2ms/step - loss: 0.1785 - binary_accuracy: 0.8958 - val_loss: 0.1854 - val_binary_accuracy: 0.8961\n",
      "Epoch 82/200\n",
      "22/22 [==============================] - 0s 2ms/step - loss: 0.1573 - binary_accuracy: 0.8963 - val_loss: 0.1840 - val_binary_accuracy: 0.8967\n",
      "Epoch 83/200\n",
      "22/22 [==============================] - 0s 2ms/step - loss: 0.1730 - binary_accuracy: 0.8969 - val_loss: 0.1816 - val_binary_accuracy: 0.8972\n",
      "Epoch 84/200\n",
      "22/22 [==============================] - 0s 2ms/step - loss: 0.1913 - binary_accuracy: 0.8973 - val_loss: 0.1838 - val_binary_accuracy: 0.8977\n",
      "Epoch 85/200\n",
      "22/22 [==============================] - 0s 2ms/step - loss: 0.1626 - binary_accuracy: 0.8978 - val_loss: 0.1829 - val_binary_accuracy: 0.8982\n",
      "Epoch 86/200\n",
      "22/22 [==============================] - 0s 2ms/step - loss: 0.1680 - binary_accuracy: 0.8984 - val_loss: 0.1804 - val_binary_accuracy: 0.8988\n",
      "Epoch 87/200\n",
      "22/22 [==============================] - 0s 2ms/step - loss: 0.1928 - binary_accuracy: 0.8989 - val_loss: 0.1781 - val_binary_accuracy: 0.8992\n",
      "Epoch 88/200\n",
      "22/22 [==============================] - 0s 2ms/step - loss: 0.1846 - binary_accuracy: 0.8993 - val_loss: 0.1761 - val_binary_accuracy: 0.8997\n",
      "Epoch 89/200\n",
      "22/22 [==============================] - 0s 2ms/step - loss: 0.1635 - binary_accuracy: 0.8998 - val_loss: 0.1751 - val_binary_accuracy: 0.9001\n",
      "Epoch 90/200\n",
      "22/22 [==============================] - 0s 2ms/step - loss: 0.1682 - binary_accuracy: 0.9003 - val_loss: 0.1734 - val_binary_accuracy: 0.9006\n",
      "Epoch 91/200\n",
      "22/22 [==============================] - 0s 2ms/step - loss: 0.1671 - binary_accuracy: 0.9007 - val_loss: 0.1742 - val_binary_accuracy: 0.9011\n",
      "Epoch 92/200\n",
      "22/22 [==============================] - 0s 2ms/step - loss: 0.1714 - binary_accuracy: 0.9012 - val_loss: 0.1738 - val_binary_accuracy: 0.9015\n",
      "Epoch 93/200\n",
      "22/22 [==============================] - 0s 2ms/step - loss: 0.1613 - binary_accuracy: 0.9016 - val_loss: 0.1745 - val_binary_accuracy: 0.9019\n",
      "Epoch 94/200\n",
      "22/22 [==============================] - 0s 2ms/step - loss: 0.1628 - binary_accuracy: 0.9020 - val_loss: 0.1711 - val_binary_accuracy: 0.9023\n",
      "Epoch 95/200\n",
      "22/22 [==============================] - 0s 2ms/step - loss: 0.1531 - binary_accuracy: 0.9024 - val_loss: 0.1716 - val_binary_accuracy: 0.9027\n",
      "Epoch 96/200\n",
      "22/22 [==============================] - 0s 2ms/step - loss: 0.1783 - binary_accuracy: 0.9028 - val_loss: 0.1703 - val_binary_accuracy: 0.9031\n",
      "Epoch 97/200\n",
      "22/22 [==============================] - 0s 2ms/step - loss: 0.1223 - binary_accuracy: 0.9033 - val_loss: 0.1698 - val_binary_accuracy: 0.9035\n",
      "Epoch 98/200\n",
      "22/22 [==============================] - 0s 2ms/step - loss: 0.1814 - binary_accuracy: 0.9036 - val_loss: 0.1686 - val_binary_accuracy: 0.9039\n",
      "Epoch 99/200\n",
      "22/22 [==============================] - 0s 2ms/step - loss: 0.1440 - binary_accuracy: 0.9040 - val_loss: 0.1682 - val_binary_accuracy: 0.9043\n",
      "Epoch 100/200\n",
      "22/22 [==============================] - 0s 2ms/step - loss: 0.1700 - binary_accuracy: 0.9044 - val_loss: 0.1647 - val_binary_accuracy: 0.9046\n",
      "Epoch 101/200\n",
      "22/22 [==============================] - 0s 2ms/step - loss: 0.1682 - binary_accuracy: 0.9047 - val_loss: 0.1644 - val_binary_accuracy: 0.9050\n",
      "Epoch 102/200\n",
      "22/22 [==============================] - 0s 2ms/step - loss: 0.1683 - binary_accuracy: 0.9051 - val_loss: 0.1619 - val_binary_accuracy: 0.9054\n",
      "Epoch 103/200\n",
      "22/22 [==============================] - 0s 2ms/step - loss: 0.1602 - binary_accuracy: 0.9055 - val_loss: 0.1605 - val_binary_accuracy: 0.9058\n",
      "Epoch 104/200\n",
      "22/22 [==============================] - 0s 2ms/step - loss: 0.1621 - binary_accuracy: 0.9059 - val_loss: 0.1583 - val_binary_accuracy: 0.9062\n",
      "Epoch 105/200\n"
     ]
    },
    {
     "name": "stdout",
     "output_type": "stream",
     "text": [
      "22/22 [==============================] - 0s 2ms/step - loss: 0.1422 - binary_accuracy: 0.9063 - val_loss: 0.1569 - val_binary_accuracy: 0.9066\n",
      "Epoch 106/200\n",
      "22/22 [==============================] - 0s 2ms/step - loss: 0.1513 - binary_accuracy: 0.9067 - val_loss: 0.1574 - val_binary_accuracy: 0.9070\n",
      "Epoch 107/200\n",
      "22/22 [==============================] - 0s 2ms/step - loss: 0.1453 - binary_accuracy: 0.9071 - val_loss: 0.1566 - val_binary_accuracy: 0.9074\n",
      "Epoch 108/200\n",
      "22/22 [==============================] - 0s 2ms/step - loss: 0.1578 - binary_accuracy: 0.9075 - val_loss: 0.1563 - val_binary_accuracy: 0.9077\n",
      "Epoch 109/200\n",
      "22/22 [==============================] - 0s 2ms/step - loss: 0.1479 - binary_accuracy: 0.9078 - val_loss: 0.1559 - val_binary_accuracy: 0.9081\n",
      "Epoch 110/200\n",
      "22/22 [==============================] - 0s 2ms/step - loss: 0.1312 - binary_accuracy: 0.9082 - val_loss: 0.1549 - val_binary_accuracy: 0.9083\n",
      "Epoch 111/200\n",
      "22/22 [==============================] - 0s 2ms/step - loss: 0.1554 - binary_accuracy: 0.9084 - val_loss: 0.1556 - val_binary_accuracy: 0.9087\n",
      "Epoch 112/200\n",
      "22/22 [==============================] - 0s 2ms/step - loss: 0.1390 - binary_accuracy: 0.9088 - val_loss: 0.1558 - val_binary_accuracy: 0.9090\n",
      "Epoch 113/200\n",
      "22/22 [==============================] - 0s 2ms/step - loss: 0.1522 - binary_accuracy: 0.9091 - val_loss: 0.1545 - val_binary_accuracy: 0.9093\n",
      "Epoch 114/200\n",
      "22/22 [==============================] - 0s 2ms/step - loss: 0.1774 - binary_accuracy: 0.9094 - val_loss: 0.1551 - val_binary_accuracy: 0.9096\n",
      "Epoch 115/200\n",
      "22/22 [==============================] - 0s 2ms/step - loss: 0.1557 - binary_accuracy: 0.9097 - val_loss: 0.1549 - val_binary_accuracy: 0.9099\n",
      "Epoch 116/200\n",
      "22/22 [==============================] - 0s 2ms/step - loss: 0.1602 - binary_accuracy: 0.9100 - val_loss: 0.1556 - val_binary_accuracy: 0.9102\n",
      "Epoch 117/200\n",
      "22/22 [==============================] - 0s 2ms/step - loss: 0.1294 - binary_accuracy: 0.9104 - val_loss: 0.1559 - val_binary_accuracy: 0.9106\n",
      "Epoch 118/200\n",
      "22/22 [==============================] - 0s 2ms/step - loss: 0.1472 - binary_accuracy: 0.9107 - val_loss: 0.1554 - val_binary_accuracy: 0.9109\n",
      "Epoch 119/200\n",
      "22/22 [==============================] - 0s 2ms/step - loss: 0.1212 - binary_accuracy: 0.9110 - val_loss: 0.1546 - val_binary_accuracy: 0.9112\n",
      "Epoch 120/200\n",
      "22/22 [==============================] - 0s 2ms/step - loss: 0.1202 - binary_accuracy: 0.9113 - val_loss: 0.1554 - val_binary_accuracy: 0.9115\n",
      "Epoch 121/200\n",
      "22/22 [==============================] - 0s 2ms/step - loss: 0.1461 - binary_accuracy: 0.9116 - val_loss: 0.1545 - val_binary_accuracy: 0.9118\n",
      "Epoch 122/200\n",
      "22/22 [==============================] - 0s 3ms/step - loss: 0.1588 - binary_accuracy: 0.9119 - val_loss: 0.1543 - val_binary_accuracy: 0.9122\n",
      "Epoch 123/200\n",
      "22/22 [==============================] - 0s 2ms/step - loss: 0.1517 - binary_accuracy: 0.9122 - val_loss: 0.1509 - val_binary_accuracy: 0.9124\n",
      "Epoch 124/200\n",
      "22/22 [==============================] - 0s 3ms/step - loss: 0.1592 - binary_accuracy: 0.9125 - val_loss: 0.1547 - val_binary_accuracy: 0.9127\n",
      "Epoch 125/200\n",
      "22/22 [==============================] - 0s 2ms/step - loss: 0.1548 - binary_accuracy: 0.9127 - val_loss: 0.1569 - val_binary_accuracy: 0.9129\n",
      "Epoch 126/200\n",
      "22/22 [==============================] - 0s 2ms/step - loss: 0.1529 - binary_accuracy: 0.9130 - val_loss: 0.1555 - val_binary_accuracy: 0.9132\n",
      "Epoch 127/200\n",
      "22/22 [==============================] - 0s 2ms/step - loss: 0.1324 - binary_accuracy: 0.9133 - val_loss: 0.1547 - val_binary_accuracy: 0.9135\n",
      "Epoch 128/200\n",
      "22/22 [==============================] - 0s 2ms/step - loss: 0.1441 - binary_accuracy: 0.9135 - val_loss: 0.1559 - val_binary_accuracy: 0.9137\n",
      "Epoch 129/200\n",
      "22/22 [==============================] - 0s 2ms/step - loss: 0.1402 - binary_accuracy: 0.9138 - val_loss: 0.1537 - val_binary_accuracy: 0.9140\n",
      "Epoch 130/200\n",
      "22/22 [==============================] - 0s 3ms/step - loss: 0.1470 - binary_accuracy: 0.9140 - val_loss: 0.1530 - val_binary_accuracy: 0.9142\n",
      "Epoch 131/200\n",
      "22/22 [==============================] - 0s 2ms/step - loss: 0.1468 - binary_accuracy: 0.9143 - val_loss: 0.1511 - val_binary_accuracy: 0.9145\n",
      "Epoch 132/200\n",
      "22/22 [==============================] - 0s 2ms/step - loss: 0.1342 - binary_accuracy: 0.9146 - val_loss: 0.1507 - val_binary_accuracy: 0.9147\n",
      "Epoch 133/200\n",
      "22/22 [==============================] - 0s 2ms/step - loss: 0.1447 - binary_accuracy: 0.9148 - val_loss: 0.1502 - val_binary_accuracy: 0.9149\n",
      "Epoch 134/200\n",
      "22/22 [==============================] - 0s 2ms/step - loss: 0.1209 - binary_accuracy: 0.9150 - val_loss: 0.1503 - val_binary_accuracy: 0.9152\n",
      "Epoch 135/200\n",
      "22/22 [==============================] - 0s 2ms/step - loss: 0.1304 - binary_accuracy: 0.9152 - val_loss: 0.1496 - val_binary_accuracy: 0.9154\n",
      "Epoch 136/200\n",
      "22/22 [==============================] - 0s 2ms/step - loss: 0.1295 - binary_accuracy: 0.9155 - val_loss: 0.1513 - val_binary_accuracy: 0.9156\n",
      "Epoch 137/200\n",
      "22/22 [==============================] - 0s 2ms/step - loss: 0.1602 - binary_accuracy: 0.9156 - val_loss: 0.1512 - val_binary_accuracy: 0.9158\n",
      "Epoch 138/200\n",
      "22/22 [==============================] - 0s 2ms/step - loss: 0.1428 - binary_accuracy: 0.9158 - val_loss: 0.1529 - val_binary_accuracy: 0.9160\n",
      "Epoch 139/200\n",
      "22/22 [==============================] - 0s 2ms/step - loss: 0.1282 - binary_accuracy: 0.9161 - val_loss: 0.1524 - val_binary_accuracy: 0.9162\n",
      "Epoch 140/200\n",
      "22/22 [==============================] - 0s 2ms/step - loss: 0.1532 - binary_accuracy: 0.9163 - val_loss: 0.1527 - val_binary_accuracy: 0.9165\n",
      "Epoch 141/200\n",
      "22/22 [==============================] - 0s 2ms/step - loss: 0.1348 - binary_accuracy: 0.9165 - val_loss: 0.1539 - val_binary_accuracy: 0.9167\n",
      "Epoch 142/200\n",
      "22/22 [==============================] - 0s 2ms/step - loss: 0.1360 - binary_accuracy: 0.9167 - val_loss: 0.1553 - val_binary_accuracy: 0.9169\n",
      "Epoch 143/200\n",
      "22/22 [==============================] - 0s 2ms/step - loss: 0.1190 - binary_accuracy: 0.9170 - val_loss: 0.1545 - val_binary_accuracy: 0.9171\n",
      "Epoch 144/200\n",
      "22/22 [==============================] - 0s 2ms/step - loss: 0.1302 - binary_accuracy: 0.9172 - val_loss: 0.1637 - val_binary_accuracy: 0.9173\n",
      "Epoch 145/200\n",
      "22/22 [==============================] - 0s 2ms/step - loss: 0.1332 - binary_accuracy: 0.9174 - val_loss: 0.1626 - val_binary_accuracy: 0.9174\n",
      "Epoch 146/200\n",
      "22/22 [==============================] - 0s 2ms/step - loss: 0.1437 - binary_accuracy: 0.9175 - val_loss: 0.1589 - val_binary_accuracy: 0.9176\n",
      "Epoch 147/200\n",
      "22/22 [==============================] - 0s 2ms/step - loss: 0.1415 - binary_accuracy: 0.9177 - val_loss: 0.1575 - val_binary_accuracy: 0.9178\n",
      "Epoch 148/200\n",
      "22/22 [==============================] - 0s 2ms/step - loss: 0.1562 - binary_accuracy: 0.9179 - val_loss: 0.1562 - val_binary_accuracy: 0.9180\n",
      "Epoch 149/200\n",
      "22/22 [==============================] - 0s 2ms/step - loss: 0.1311 - binary_accuracy: 0.9181 - val_loss: 0.1639 - val_binary_accuracy: 0.9182\n",
      "Epoch 150/200\n",
      "22/22 [==============================] - 0s 2ms/step - loss: 0.1322 - binary_accuracy: 0.9182 - val_loss: 0.1646 - val_binary_accuracy: 0.9184\n",
      "Epoch 151/200\n",
      "22/22 [==============================] - 0s 2ms/step - loss: 0.1476 - binary_accuracy: 0.9184 - val_loss: 0.1614 - val_binary_accuracy: 0.9185\n",
      "Epoch 152/200\n",
      "22/22 [==============================] - 0s 2ms/step - loss: 0.1527 - binary_accuracy: 0.9186 - val_loss: 0.1615 - val_binary_accuracy: 0.9187\n",
      "Epoch 153/200\n",
      "22/22 [==============================] - 0s 2ms/step - loss: 0.1349 - binary_accuracy: 0.9188 - val_loss: 0.1614 - val_binary_accuracy: 0.9189\n",
      "Epoch 154/200\n",
      "22/22 [==============================] - 0s 2ms/step - loss: 0.1422 - binary_accuracy: 0.9190 - val_loss: 0.1618 - val_binary_accuracy: 0.9191\n",
      "Epoch 155/200\n",
      "22/22 [==============================] - 0s 2ms/step - loss: 0.1399 - binary_accuracy: 0.9191 - val_loss: 0.1625 - val_binary_accuracy: 0.9192\n",
      "Epoch 00155: early stopping\n"
     ]
    }
   ],
   "source": [
    "callback = tf.keras.callbacks.EarlyStopping(monitor = \"val_loss\", patience = 20, verbose = 1)\n",
    "history = model.fit(x = X_train,\n",
    "                    y = y_train,\n",
    "                    batch_size = 32,\n",
    "                    epochs = 200,\n",
    "                    validation_data = (X_val, y_val),\n",
    "                    callbacks = [callback])"
   ]
  },
  {
   "cell_type": "code",
   "execution_count": 202,
   "metadata": {
    "scrolled": false
   },
   "outputs": [
    {
     "data": {
      "image/png": "[encoded data removed]",
      "text/plain": [
       "<Figure size 1080x360 with 2 Axes>"
      ]
     },
     "metadata": {
      "needs_background": "light"
     },
     "output_type": "display_data"
    }
   ],
   "source": [
    "fig = plt.figure(figsize = (15, 5))\n",
    "\n",
    "# ====== Plot Loss ====== #\n",
    "ax1 = fig.add_subplot(1, 2, 1)\n",
    "ax1.plot(history.history[\"loss\"], label = 'train_loss')\n",
    "ax1.plot(history.history[\"val_loss\"], '--', label = 'val_loss')\n",
    "ax1.set_xlabel('epoch')\n",
    "ax1.set_ylabel('loss')\n",
    "ax1.grid()\n",
    "ax1.legend()\n",
    "ax1.set_title('epoch vs loss')\n",
    "\n",
    "# ====== Plot Metric ====== #\n",
    "ax2 = fig.add_subplot(1, 2, 2)\n",
    "ax2.plot(history.history[\"binary_accuracy\"], marker = 'x', label = 'train_acc')\n",
    "ax2.plot(history.history[\"val_binary_accuracy\"], marker = 'x', label = 'val_acc')\n",
    "ax2.set_xlabel('epoch')\n",
    "ax2.set_ylabel('acc')\n",
    "ax2.grid()\n",
    "ax2.legend()\n",
    "ax2.set_title('epoch vs acc')\n",
    "\n",
    "plt.show()"
   ]
  },
  {
   "cell_type": "code",
   "execution_count": 203,
   "metadata": {
    "scrolled": true
   },
   "outputs": [
    {
     "name": "stdout",
     "output_type": "stream",
     "text": [
      "Accuracy: 0.9647206417641446\n",
      " Recall: 0.9263157894736842\n",
      " Precision: 0.008744038155802861\n",
      " F1 score: 0.01732453981691111\n",
      "[[272899   9976]\n",
      " [     7     88]]\n"
     ]
    }
   ],
   "source": [
    "y_prob = model.predict(X_test)\n",
    "y_pred = [0 if prob < 0.5 else 1 for prob in y_prob]\n",
    "print(f'Accuracy: {accuracy_score(y_test, y_pred)}\\n Recall: {recall_score(y_test, y_pred)}\\n Precision: {precision_score(y_test, y_pred)}\\n F1 score: {f1_score(y_test, y_pred)}')\n",
    "print(confusion_matrix(y_test, y_pred))\n",
    "      "
   ]
  },
  {
   "cell_type": "markdown",
   "metadata": {},
   "source": [
    "### Gradient Boosting"
   ]
  },
  {
   "cell_type": "code",
   "execution_count": 204,
   "metadata": {},
   "outputs": [],
   "source": [
    "from sklearn.ensemble import GradientBoostingClassifier"
   ]
  },
  {
   "cell_type": "markdown",
   "metadata": {},
   "source": [
    "Here, we use the training data to fit the model, val data to tune the hyperparameter ```max_depth``` and test set to evaluate the final performance."
   ]
  },
  {
   "cell_type": "code",
   "execution_count": 205,
   "metadata": {
    "scrolled": false
   },
   "outputs": [
    {
     "data": {
      "image/png": "[encoded data removed]",
      "text/plain": [
       "<Figure size 432x288 with 1 Axes>"
      ]
     },
     "metadata": {
      "needs_background": "light"
     },
     "output_type": "display_data"
    }
   ],
   "source": [
    "trial_depth = list(range(1, 21, 1))\n",
    "GB_acc_list = []\n",
    "GB_rec_list = []\n",
    "GB_pre_list = []\n",
    "GB_f1_list = []\n",
    "\n",
    "for depth in trial_depth:\n",
    "    clf = GradientBoostingClassifier(max_depth = depth, random_state = 0).fit(X_train, y_train)\n",
    "    y_pred = clf.predict(X_val)\n",
    "    GB_acc_list.append(accuracy_score(y_val, y_pred))\n",
    "    GB_rec_list.append(recall_score(y_val, y_pred))\n",
    "    GB_pre_list.append(precision_score(y_val, y_pred))\n",
    "    GB_f1_list.append(f1_score(y_val, y_pred))\n",
    "     \n",
    "fig = plt.figure()\n",
    "\n",
    "ax1 = fig.add_subplot(1, 1, 1)\n",
    "ax1.plot(trial_depth, GB_acc_list, marker = 'o', label = 'val_acc')\n",
    "ax1.plot(trial_depth, GB_rec_list, marker = 'o', label = 'val_rec')\n",
    "ax1.plot(trial_depth, GB_pre_list, marker = 'o', label = 'val_pre')\n",
    "ax1.plot(trial_depth, GB_f1_list, marker = 'o', label = 'val_f1')\n",
    "ax1.set_xlabel('max_depth')\n",
    "ax1.set_ylabel('metrics')\n",
    "ax1.grid()\n",
    "ax1.legend()\n",
    "ax1.set_title('max_depth vs acc')\n",
    "\n",
    "plt.show()"
   ]
  },
  {
   "cell_type": "markdown",
   "metadata": {},
   "source": [
    "It seems like ```max_depth = 2``` and ```max_depth = 7``` the model achieves similar performence on the val set. We just choose ```max_depth = 2```."
   ]
  },
  {
   "cell_type": "code",
   "execution_count": 208,
   "metadata": {
    "scrolled": true
   },
   "outputs": [
    {
     "name": "stdout",
     "output_type": "stream",
     "text": [
      "Accuracy: 0.9544156624377143\n",
      " Recall: 0.9263157894736842\n",
      " Precision: 0.006779661016949152\n",
      " F1 score: 0.013460803059273422\n",
      "[[269983  12892]\n",
      " [     7     88]]\n"
     ]
    }
   ],
   "source": [
    "clf = GradientBoostingClassifier(max_depth = 2, random_state = 0).fit(X_train, y_train)\n",
    "\n",
    "y_pred = clf.predict(X_test)\n",
    "print(f'Accuracy: {accuracy_score(y_test, y_pred)}\\n Recall: {recall_score(y_test, y_pred)}\\n Precision: {precision_score(y_test, y_pred)}\\n F1 score: {f1_score(y_test, y_pred)}')\n",
    "print(confusion_matrix(y_test, y_pred))\n"
   ]
  },
  {
   "cell_type": "markdown",
   "metadata": {},
   "source": [
    "## Unsupervised Learning Approach"
   ]
  },
  {
   "cell_type": "markdown",
   "metadata": {},
   "source": [
    "### Isolation forest"
   ]
  },
  {
   "cell_type": "code",
   "execution_count": 279,
   "metadata": {},
   "outputs": [],
   "source": [
    "from sklearn.ensemble import IsolationForest"
   ]
  },
  {
   "cell_type": "markdown",
   "metadata": {},
   "source": [
    "We use 90% of the total data as the training set and the rest 10% as the test set."
   ]
  },
  {
   "cell_type": "code",
   "execution_count": 280,
   "metadata": {},
   "outputs": [
    {
     "name": "stdout",
     "output_type": "stream",
     "text": [
      "The number of training samples: 255353, with 424 positive and 254929 negative\n",
      "The number of test samples: 28373, with 49 positive and 28324 negative\n"
     ]
    }
   ],
   "source": [
    "df_test = df_scaled.sample(frac = 0.1)\n",
    "df_train = df_scaled.drop(df_test.index)\n",
    "print(f\"The number of training samples: {len(df_train)}, with {len(df_train[df_train['Class'] == 1])} positive and {len(df_train[df_train['Class'] == 0])} negative\")\n",
    "print(f\"The number of test samples: {len(df_test)}, with {len(df_test[df_test['Class'] == 1])} positive and {len(df_test[df_test['Class'] == 0])} negative\")\n"
   ]
  },
  {
   "cell_type": "code",
   "execution_count": 281,
   "metadata": {},
   "outputs": [
    {
     "name": "stdout",
     "output_type": "stream",
     "text": [
      "Positive rate of training samples:  0.17%\n"
     ]
    }
   ],
   "source": [
    "X_train = df_train.drop(columns = ['Class'])\n",
    "y_train = df_train['Class']\n",
    "X_test = df_test.drop(columns = ['Class'])\n",
    "y_test = df_test['Class']\n",
    "print(f\"Positive rate of training samples: {y_train.values.sum() / len(y_train): .2%}\")\n"
   ]
  },
  {
   "cell_type": "markdown",
   "metadata": {},
   "source": [
    "We test out different value for the ```contamination``` parameter and use the one that tends to give the best performence on the training data."
   ]
  },
  {
   "cell_type": "code",
   "execution_count": 282,
   "metadata": {},
   "outputs": [
    {
     "data": {
      "image/png": "[encoded data removed]",
      "text/plain": [
       "<Figure size 720x360 with 1 Axes>"
      ]
     },
     "metadata": {
      "needs_background": "light"
     },
     "output_type": "display_data"
    }
   ],
   "source": [
    "trial_con = [0.3, 0.2, 0.1, 0.05, 0.01, 0.005, 0.001]\n",
    "IF_acc_list = []\n",
    "IF_rec_list = []\n",
    "IF_pre_list = []\n",
    "IF_f1_list = []\n",
    "\n",
    "for con in trial_con:\n",
    "    y_pred = IsolationForest(random_state = 0, contamination = con).fit_predict(X_train)\n",
    "    y_pred[y_pred == 1] = 0\n",
    "    y_pred[y_pred == -1] = 1\n",
    "    IF_acc_list.append(accuracy_score(y_train, y_pred))\n",
    "    IF_rec_list.append(recall_score(y_train, y_pred))\n",
    "    IF_pre_list.append(precision_score(y_train, y_pred))\n",
    "    IF_f1_list.append(f1_score(y_train, y_pred))\n",
    "    \n",
    "fig = plt.figure(figsize = (10, 5))\n",
    "\n",
    "ax1 = fig.add_subplot(1, 1, 1)\n",
    "ax1.plot(trial_con, IF_acc_list, marker = 'o', label = 'acc')\n",
    "ax1.plot(trial_con, IF_rec_list, marker = 'o', label = 'rec')\n",
    "ax1.plot(trial_con, IF_pre_list, marker = 'o', label = 'pre')\n",
    "ax1.plot(trial_con, IF_f1_list, marker = 'o', label = 'f1')\n",
    "ax1.set_xticks(trial_con)\n",
    "ax1.set_xlabel('contamination')\n",
    "ax1.set_ylabel('metrics')\n",
    "ax1.grid()\n",
    "ax1.legend()\n",
    "ax1.set_title('contamination vs metrics')\n",
    "\n",
    "plt.show()"
   ]
  },
  {
   "cell_type": "code",
   "execution_count": 283,
   "metadata": {},
   "outputs": [
    {
     "name": "stdout",
     "output_type": "stream",
     "text": [
      "Accuracy: 0.8912346244669228\n",
      " Recall: 0.9183673469387755\n",
      " Precision: 0.014390789894467541\n",
      " F1 score: 0.028337531486146098\n",
      "[[25242  3082]\n",
      " [    4    45]]\n"
     ]
    }
   ],
   "source": [
    "clf = IsolationForest(random_state = 0, contamination = 0.11).fit(X_train)\n",
    "\n",
    "y_pred = clf.predict(X_test)\n",
    "y_pred[y_pred == 1] = 0\n",
    "y_pred[y_pred == -1] = 1\n",
    "print(f'Accuracy: {accuracy_score(y_test, y_pred)}\\n Recall: {recall_score(y_test, y_pred)}\\n Precision: {precision_score(y_test, y_pred)}\\n F1 score: {f1_score(y_test, y_pred)}')\n",
    "print(confusion_matrix(y_test, y_pred))"
   ]
  },
  {
   "cell_type": "markdown",
   "metadata": {},
   "source": [
    "### Autoencoder"
   ]
  },
  {
   "cell_type": "code",
   "execution_count": 295,
   "metadata": {},
   "outputs": [],
   "source": [
    "import torch\n",
    "import time\n",
    "import argparse\n",
    "import random"
   ]
  },
  {
   "cell_type": "markdown",
   "metadata": {},
   "source": [
    "For the fraud detector based on autoencoder, the idea is that we train the autoencoder only with negative samples and when it sees a positive sample it will have a higher reconstruction error than usual. Thus, we use 80% of the negative samples to be the training + val set and the rest 20% of negative samples plus all the positive samples to be the test set. Further, we use 30% of the test data (test_1) to select an appropriate threshold for reconstruction error and use the rest 70% to give a final evaluation of the model performence."
   ]
  },
  {
   "cell_type": "code",
   "execution_count": 296,
   "metadata": {},
   "outputs": [],
   "source": [
    "def data_split_autoencoder(df):\n",
    "    \"\"\"\n",
    "            Undersample the data such that: \n",
    "        train + val: 80% of the negtive samples\n",
    "        test: all of the positive samples and 20% of the negative samples\n",
    "        where positive samples are outliers and negative samples are inliers.\n",
    "    \"\"\"\n",
    "    df_pos = df[df['Class'] == 1]\n",
    "    df_neg = df[df['Class'] == 0]\n",
    "    df_test = df_neg.sample(frac = 0.2)\n",
    "    df_train_val = df_neg.drop(df_test.index)\n",
    "    df_test = pd.concat([df_test, df_pos])\n",
    "    return df_train_val, df_test"
   ]
  },
  {
   "cell_type": "code",
   "execution_count": 297,
   "metadata": {},
   "outputs": [
    {
     "name": "stdout",
     "output_type": "stream",
     "text": [
      "The number of training&val samples: 226602, with 0 positive and 226602 negative\n",
      "The number of test samples: 57124, with 473 positive and 56651 negative\n"
     ]
    }
   ],
   "source": [
    "df_train_val, df_test = data_split_autoencoder(df_scaled)\n",
    "print(f\"The number of training&val samples: {len(df_train_val)}, with {len(df_train_val[df_train_val['Class'] == 1])} positive and {len(df_train_val[df_train_val['Class'] == 0])} negative\")\n",
    "print(f\"The number of test samples: {len(df_test)}, with {len(df_test[df_test['Class'] == 1])} positive and {len(df_test[df_test['Class'] == 0])} negative\")\n"
   ]
  },
  {
   "cell_type": "code",
   "execution_count": 298,
   "metadata": {},
   "outputs": [
    {
     "name": "stdout",
     "output_type": "stream",
     "text": [
      "The number of training samples: 203941, the number of val samples: 22661\n"
     ]
    }
   ],
   "source": [
    "X_train_val = df_train_val.drop(columns = ['Class'])\n",
    "y_train_val = df_train_val['Class']\n",
    "X_train, X_val, _, _ = train_test_split(X_train_val, y_train_val, test_size = 0.1, random_state = 42)\n",
    "X_test = df_test.drop(columns = ['Class'])\n",
    "y_test = df_test['Class']\n",
    "\n",
    "num_train = len(X_train)\n",
    "num_val = len(X_val)\n",
    "\n",
    "print(f\"The number of training samples: {num_train}, the number of val samples: {num_val}\")\n"
   ]
  },
  {
   "cell_type": "code",
   "execution_count": 299,
   "metadata": {},
   "outputs": [],
   "source": [
    "class AEDataset(torch.utils.data.Dataset):\n",
    "    def __init__(self, X):\n",
    "        super().__init__()\n",
    "        self.X = X\n",
    "        self.y = X\n",
    "\n",
    "    def __len__(self):\n",
    "        return len(self.X)\n",
    "\n",
    "    def __getitem__(self, idx):\n",
    "        return (torch.tensor(self.X.iloc[idx], dtype = torch.float32), torch.tensor(self.X.iloc[idx], dtype = torch.float32))\n"
   ]
  },
  {
   "cell_type": "code",
   "execution_count": 300,
   "metadata": {},
   "outputs": [],
   "source": [
    "train_dataset = AEDataset(X_train)\n",
    "val_dataset = AEDataset(X_val)\n"
   ]
  },
  {
   "cell_type": "code",
   "execution_count": 268,
   "metadata": {},
   "outputs": [],
   "source": [
    "class Autoencoder(torch.nn.Module):\n",
    "    def __init__(self):\n",
    "        super().__init__()\n",
    "          \n",
    "        self.encoder = torch.nn.Sequential(\n",
    "            torch.nn.Linear(30, 20),\n",
    "            torch.nn.ReLU(),\n",
    "            torch.nn.Linear(20, 10),\n",
    "            torch.nn.ReLU(),\n",
    "            torch.nn.Linear(10, 5)\n",
    "        )\n",
    "\n",
    "        self.decoder = torch.nn.Sequential(\n",
    "            torch.nn.Linear(5, 10),\n",
    "            torch.nn.ReLU(),\n",
    "            torch.nn.Linear(10, 20),\n",
    "            torch.nn.ReLU(),\n",
    "            torch.nn.Linear(20, 30)\n",
    "        )\n",
    "  \n",
    "    def forward(self, x):\n",
    "        encoded = self.encoder(x)\n",
    "        decoded = self.decoder(encoded)\n",
    "        return decoded"
   ]
  },
  {
   "cell_type": "code",
   "execution_count": 269,
   "metadata": {},
   "outputs": [],
   "source": [
    "def experiment(train_dataset, val_dataset, args):\n",
    "    model = Autoencoder()\n",
    "    \n",
    "    print(model)\n",
    "    \n",
    "    val_dataloader = torch.utils.data.DataLoader(val_dataset, batch_size = args.batch_size, shuffle = False)\n",
    "    \n",
    "    if args.gpu:\n",
    "        # ****** Copy model to device ****** #\n",
    "        model.to(device)\n",
    "  \n",
    "    # ====== Loss function ====== #\n",
    "    lossfunction = torch.nn.MSELoss(reduction = 'sum')\n",
    "    \n",
    "    optimizer = torch.optim.Adam(model.parameters())\n",
    "    \n",
    "    # ====== Data collection ====== #\n",
    "    list_epoch = [] \n",
    "    list_train_loss = []\n",
    "    list_val_loss = []\n",
    "    list_train_acc = []\n",
    "    list_val_acc = []\n",
    "    \n",
    "    # ====== Loop ====== #\n",
    "    for epoch in range(args.epoch):  \n",
    "        \n",
    "        t0 = time.time()\n",
    "        # ====== Train ====== #\n",
    "        model.train() # Set the model be 'train mode' \n",
    "        train_loss = 0 # to sum up each batch\n",
    "        \n",
    "        train_dataloader = torch.utils.data.DataLoader(train_dataset, batch_size = args.batch_size, shuffle = True)\n",
    "        \n",
    "        for batch_X, batch_y in train_dataloader:\n",
    "            \n",
    "            if args.gpu:\n",
    "                # ****** Transfer data to GPU ****** #\n",
    "                batch_X = batch_X.to(device)\n",
    "                batch_y = batch_y.to(device)\n",
    "\n",
    "            pred_y = model(batch_X)\n",
    "            \n",
    "            loss = lossfunction(pred_y, batch_y)\n",
    "            \n",
    "            optimizer.zero_grad()\n",
    "\n",
    "            loss.backward()\n",
    "            \n",
    "            optimizer.step()\n",
    "            \n",
    "            train_loss += loss.item()\n",
    "                          \n",
    "        train_loss = train_loss / (30 * num_train)\n",
    "        list_train_loss.append(train_loss)\n",
    "        list_epoch.append(epoch)\n",
    "           \n",
    "        print(f'{time.time() - t0} seconds')\n",
    "        \n",
    "        # ====== Validation ====== #\n",
    "        model.eval() # Set the model be 'evaluate mode' \n",
    "        val_loss = 0 # to sum up each batch\n",
    "                         \n",
    "        with torch.inference_mode():\n",
    "            \n",
    "            for batch_X, batch_y in val_dataloader:\n",
    "        \n",
    "                if args.gpu:\n",
    "                    # ****** Transfer data to GPU ****** #\n",
    "                    batch_X = batch_X.to(device)\n",
    "                    batch_y = batch_y.to(device)\n",
    "\n",
    "                pred_y = model(batch_X)\n",
    "                \n",
    "                loss = lossfunction(pred_y, batch_y)\n",
    "                \n",
    "                val_loss += loss.item()\n",
    "                \n",
    "        val_loss = val_loss / (30 * num_val)\n",
    "        list_val_loss.append(val_loss)\n",
    "\n",
    "        print(f'Epoch: {epoch}, Train Loss: {train_loss: .4f}, Val Loss: {val_loss: .4f}')\n",
    "        print('~' * 100)\n",
    "        \n",
    "        torch.save(model.state_dict(), './AE model/model.pt')\n",
    "        \n",
    "    return list_epoch, list_train_loss, list_val_loss"
   ]
  },
  {
   "cell_type": "code",
   "execution_count": 270,
   "metadata": {
    "scrolled": true
   },
   "outputs": [
    {
     "name": "stdout",
     "output_type": "stream",
     "text": [
      "Autoencoder(\n",
      "  (encoder): Sequential(\n",
      "    (0): Linear(in_features=30, out_features=20, bias=True)\n",
      "    (1): ReLU()\n",
      "    (2): Linear(in_features=20, out_features=10, bias=True)\n",
      "    (3): ReLU()\n",
      "    (4): Linear(in_features=10, out_features=5, bias=True)\n",
      "  )\n",
      "  (decoder): Sequential(\n",
      "    (0): Linear(in_features=5, out_features=10, bias=True)\n",
      "    (1): ReLU()\n",
      "    (2): Linear(in_features=10, out_features=20, bias=True)\n",
      "    (3): ReLU()\n",
      "    (4): Linear(in_features=20, out_features=30, bias=True)\n",
      "  )\n",
      ")\n",
      "62.946115016937256 seconds\n",
      "Epoch: 0, Train Loss:  0.6069, Val Loss:  0.4661\n",
      "~~~~~~~~~~~~~~~~~~~~~~~~~~~~~~~~~~~~~~~~~~~~~~~~~~~~~~~~~~~~~~~~~~~~~~~~~~~~~~~~~~~~~~~~~~~~~~~~~~~~\n",
      "63.022467851638794 seconds\n",
      "Epoch: 1, Train Loss:  0.4172, Val Loss:  0.3985\n",
      "~~~~~~~~~~~~~~~~~~~~~~~~~~~~~~~~~~~~~~~~~~~~~~~~~~~~~~~~~~~~~~~~~~~~~~~~~~~~~~~~~~~~~~~~~~~~~~~~~~~~\n",
      "62.84077024459839 seconds\n",
      "Epoch: 2, Train Loss:  0.3857, Val Loss:  0.3801\n",
      "~~~~~~~~~~~~~~~~~~~~~~~~~~~~~~~~~~~~~~~~~~~~~~~~~~~~~~~~~~~~~~~~~~~~~~~~~~~~~~~~~~~~~~~~~~~~~~~~~~~~\n",
      "62.70815110206604 seconds\n",
      "Epoch: 3, Train Loss:  0.3694, Val Loss:  0.3632\n",
      "~~~~~~~~~~~~~~~~~~~~~~~~~~~~~~~~~~~~~~~~~~~~~~~~~~~~~~~~~~~~~~~~~~~~~~~~~~~~~~~~~~~~~~~~~~~~~~~~~~~~\n",
      "62.82908892631531 seconds\n",
      "Epoch: 4, Train Loss:  0.3592, Val Loss:  0.3663\n",
      "~~~~~~~~~~~~~~~~~~~~~~~~~~~~~~~~~~~~~~~~~~~~~~~~~~~~~~~~~~~~~~~~~~~~~~~~~~~~~~~~~~~~~~~~~~~~~~~~~~~~\n",
      "62.975812911987305 seconds\n",
      "Epoch: 5, Train Loss:  0.3515, Val Loss:  0.3491\n",
      "~~~~~~~~~~~~~~~~~~~~~~~~~~~~~~~~~~~~~~~~~~~~~~~~~~~~~~~~~~~~~~~~~~~~~~~~~~~~~~~~~~~~~~~~~~~~~~~~~~~~\n",
      "63.00985598564148 seconds\n",
      "Epoch: 6, Train Loss:  0.3451, Val Loss:  0.3412\n",
      "~~~~~~~~~~~~~~~~~~~~~~~~~~~~~~~~~~~~~~~~~~~~~~~~~~~~~~~~~~~~~~~~~~~~~~~~~~~~~~~~~~~~~~~~~~~~~~~~~~~~\n",
      "62.888041973114014 seconds\n",
      "Epoch: 7, Train Loss:  0.3407, Val Loss:  0.3369\n",
      "~~~~~~~~~~~~~~~~~~~~~~~~~~~~~~~~~~~~~~~~~~~~~~~~~~~~~~~~~~~~~~~~~~~~~~~~~~~~~~~~~~~~~~~~~~~~~~~~~~~~\n",
      "63.19742798805237 seconds\n",
      "Epoch: 8, Train Loss:  0.3367, Val Loss:  0.3308\n",
      "~~~~~~~~~~~~~~~~~~~~~~~~~~~~~~~~~~~~~~~~~~~~~~~~~~~~~~~~~~~~~~~~~~~~~~~~~~~~~~~~~~~~~~~~~~~~~~~~~~~~\n",
      "2410.9976620674133 seconds\n",
      "Epoch: 9, Train Loss:  0.3337, Val Loss:  0.3295\n",
      "~~~~~~~~~~~~~~~~~~~~~~~~~~~~~~~~~~~~~~~~~~~~~~~~~~~~~~~~~~~~~~~~~~~~~~~~~~~~~~~~~~~~~~~~~~~~~~~~~~~~\n",
      "66.61386704444885 seconds\n",
      "Epoch: 10, Train Loss:  0.3283, Val Loss:  0.3259\n",
      "~~~~~~~~~~~~~~~~~~~~~~~~~~~~~~~~~~~~~~~~~~~~~~~~~~~~~~~~~~~~~~~~~~~~~~~~~~~~~~~~~~~~~~~~~~~~~~~~~~~~\n",
      "63.683350801467896 seconds\n",
      "Epoch: 11, Train Loss:  0.3258, Val Loss:  0.3219\n",
      "~~~~~~~~~~~~~~~~~~~~~~~~~~~~~~~~~~~~~~~~~~~~~~~~~~~~~~~~~~~~~~~~~~~~~~~~~~~~~~~~~~~~~~~~~~~~~~~~~~~~\n",
      "62.87905931472778 seconds\n",
      "Epoch: 12, Train Loss:  0.3214, Val Loss:  0.3190\n",
      "~~~~~~~~~~~~~~~~~~~~~~~~~~~~~~~~~~~~~~~~~~~~~~~~~~~~~~~~~~~~~~~~~~~~~~~~~~~~~~~~~~~~~~~~~~~~~~~~~~~~\n",
      "62.83894205093384 seconds\n",
      "Epoch: 13, Train Loss:  0.3185, Val Loss:  0.3152\n",
      "~~~~~~~~~~~~~~~~~~~~~~~~~~~~~~~~~~~~~~~~~~~~~~~~~~~~~~~~~~~~~~~~~~~~~~~~~~~~~~~~~~~~~~~~~~~~~~~~~~~~\n",
      "64.02987504005432 seconds\n",
      "Epoch: 14, Train Loss:  0.3139, Val Loss:  0.3103\n",
      "~~~~~~~~~~~~~~~~~~~~~~~~~~~~~~~~~~~~~~~~~~~~~~~~~~~~~~~~~~~~~~~~~~~~~~~~~~~~~~~~~~~~~~~~~~~~~~~~~~~~\n",
      "66.77557826042175 seconds\n",
      "Epoch: 15, Train Loss:  0.3103, Val Loss:  0.3075\n",
      "~~~~~~~~~~~~~~~~~~~~~~~~~~~~~~~~~~~~~~~~~~~~~~~~~~~~~~~~~~~~~~~~~~~~~~~~~~~~~~~~~~~~~~~~~~~~~~~~~~~~\n",
      "67.56697297096252 seconds\n",
      "Epoch: 16, Train Loss:  0.3060, Val Loss:  0.3030\n",
      "~~~~~~~~~~~~~~~~~~~~~~~~~~~~~~~~~~~~~~~~~~~~~~~~~~~~~~~~~~~~~~~~~~~~~~~~~~~~~~~~~~~~~~~~~~~~~~~~~~~~\n",
      "65.24624514579773 seconds\n",
      "Epoch: 17, Train Loss:  0.3017, Val Loss:  0.2997\n",
      "~~~~~~~~~~~~~~~~~~~~~~~~~~~~~~~~~~~~~~~~~~~~~~~~~~~~~~~~~~~~~~~~~~~~~~~~~~~~~~~~~~~~~~~~~~~~~~~~~~~~\n",
      "63.058207988739014 seconds\n",
      "Epoch: 18, Train Loss:  0.2993, Val Loss:  0.2988\n",
      "~~~~~~~~~~~~~~~~~~~~~~~~~~~~~~~~~~~~~~~~~~~~~~~~~~~~~~~~~~~~~~~~~~~~~~~~~~~~~~~~~~~~~~~~~~~~~~~~~~~~\n",
      "62.85491919517517 seconds\n",
      "Epoch: 19, Train Loss:  0.2971, Val Loss:  0.3004\n",
      "~~~~~~~~~~~~~~~~~~~~~~~~~~~~~~~~~~~~~~~~~~~~~~~~~~~~~~~~~~~~~~~~~~~~~~~~~~~~~~~~~~~~~~~~~~~~~~~~~~~~\n",
      "62.827654123306274 seconds\n",
      "Epoch: 20, Train Loss:  0.2958, Val Loss:  0.2958\n",
      "~~~~~~~~~~~~~~~~~~~~~~~~~~~~~~~~~~~~~~~~~~~~~~~~~~~~~~~~~~~~~~~~~~~~~~~~~~~~~~~~~~~~~~~~~~~~~~~~~~~~\n",
      "64.95026516914368 seconds\n",
      "Epoch: 21, Train Loss:  0.2951, Val Loss:  0.2933\n",
      "~~~~~~~~~~~~~~~~~~~~~~~~~~~~~~~~~~~~~~~~~~~~~~~~~~~~~~~~~~~~~~~~~~~~~~~~~~~~~~~~~~~~~~~~~~~~~~~~~~~~\n",
      "63.27484393119812 seconds\n",
      "Epoch: 22, Train Loss:  0.2927, Val Loss:  0.2945\n",
      "~~~~~~~~~~~~~~~~~~~~~~~~~~~~~~~~~~~~~~~~~~~~~~~~~~~~~~~~~~~~~~~~~~~~~~~~~~~~~~~~~~~~~~~~~~~~~~~~~~~~\n",
      "62.96983194351196 seconds\n",
      "Epoch: 23, Train Loss:  0.2927, Val Loss:  0.2925\n",
      "~~~~~~~~~~~~~~~~~~~~~~~~~~~~~~~~~~~~~~~~~~~~~~~~~~~~~~~~~~~~~~~~~~~~~~~~~~~~~~~~~~~~~~~~~~~~~~~~~~~~\n",
      "62.841962814331055 seconds\n",
      "Epoch: 24, Train Loss:  0.2914, Val Loss:  0.2921\n",
      "~~~~~~~~~~~~~~~~~~~~~~~~~~~~~~~~~~~~~~~~~~~~~~~~~~~~~~~~~~~~~~~~~~~~~~~~~~~~~~~~~~~~~~~~~~~~~~~~~~~~\n",
      "63.15711212158203 seconds\n",
      "Epoch: 25, Train Loss:  0.2909, Val Loss:  0.2968\n",
      "~~~~~~~~~~~~~~~~~~~~~~~~~~~~~~~~~~~~~~~~~~~~~~~~~~~~~~~~~~~~~~~~~~~~~~~~~~~~~~~~~~~~~~~~~~~~~~~~~~~~\n",
      "63.09601306915283 seconds\n",
      "Epoch: 26, Train Loss:  0.2900, Val Loss:  0.2891\n",
      "~~~~~~~~~~~~~~~~~~~~~~~~~~~~~~~~~~~~~~~~~~~~~~~~~~~~~~~~~~~~~~~~~~~~~~~~~~~~~~~~~~~~~~~~~~~~~~~~~~~~\n",
      "66.4584231376648 seconds\n",
      "Epoch: 27, Train Loss:  0.2891, Val Loss:  0.2907\n",
      "~~~~~~~~~~~~~~~~~~~~~~~~~~~~~~~~~~~~~~~~~~~~~~~~~~~~~~~~~~~~~~~~~~~~~~~~~~~~~~~~~~~~~~~~~~~~~~~~~~~~\n",
      "65.65520405769348 seconds\n",
      "Epoch: 28, Train Loss:  0.2890, Val Loss:  0.2905\n",
      "~~~~~~~~~~~~~~~~~~~~~~~~~~~~~~~~~~~~~~~~~~~~~~~~~~~~~~~~~~~~~~~~~~~~~~~~~~~~~~~~~~~~~~~~~~~~~~~~~~~~\n",
      "64.5144419670105 seconds\n",
      "Epoch: 29, Train Loss:  0.2879, Val Loss:  0.2908\n",
      "~~~~~~~~~~~~~~~~~~~~~~~~~~~~~~~~~~~~~~~~~~~~~~~~~~~~~~~~~~~~~~~~~~~~~~~~~~~~~~~~~~~~~~~~~~~~~~~~~~~~\n"
     ]
    }
   ],
   "source": [
    "parser = argparse.ArgumentParser()\n",
    "\n",
    "args = parser.parse_args(\"\")\n",
    "\n",
    "args.gpu = False\n",
    "args.epoch = 30\n",
    "args.batch_size = 128\n",
    "\n",
    "train_dataset = AEDataset(X_train)\n",
    "val_dataset = AEDataset(X_val)\n",
    "\n",
    "list_epoch, list_train_loss, list_val_loss = experiment(train_dataset, val_dataset, args)\n"
   ]
  },
  {
   "cell_type": "code",
   "execution_count": 271,
   "metadata": {},
   "outputs": [
    {
     "data": {
      "image/png": "[encoded data removed]",
      "text/plain": [
       "<Figure size 1050x350 with 1 Axes>"
      ]
     },
     "metadata": {
      "needs_background": "light"
     },
     "output_type": "display_data"
    }
   ],
   "source": [
    "fig = plt.figure(figsize = (15, 5), dpi = 70)\n",
    "\n",
    "# ====== Plot Loss ====== #\n",
    "ax1 = fig.add_subplot(1, 2, 1)\n",
    "ax1.plot(list_epoch, list_train_loss, label='train_loss')\n",
    "ax1.plot(list_epoch, list_val_loss, label='val_loss')\n",
    "ax1.set_xlabel('epoch')\n",
    "ax1.set_ylabel('loss')\n",
    "ax1.grid()\n",
    "ax1.legend()\n",
    "ax1.set_title('epoch vs loss')\n",
    "\n",
    "plt.show()"
   ]
  },
  {
   "cell_type": "code",
   "execution_count": 307,
   "metadata": {},
   "outputs": [],
   "source": [
    "X_test_1, X_test_2, y_test_1, y_test_2 = train_test_split(X_test, y_test, test_size = 0.7, random_state = 42)"
   ]
  },
  {
   "cell_type": "code",
   "execution_count": 308,
   "metadata": {},
   "outputs": [
    {
     "data": {
      "text/plain": [
       "<All keys matched successfully>"
      ]
     },
     "execution_count": 308,
     "metadata": {},
     "output_type": "execute_result"
    }
   ],
   "source": [
    "model = Autoencoder()\n",
    "model.load_state_dict(torch.load('./AE model/model.pt'))"
   ]
  },
  {
   "cell_type": "code",
   "execution_count": 309,
   "metadata": {},
   "outputs": [],
   "source": [
    "def reconstruction_error(orig, model):\n",
    "    orig = torch.tensor(orig, dtype = torch.float32)\n",
    "    recon = model(orig)\n",
    "    return np.square(recon.detach().numpy() - orig.detach().numpy()).mean()"
   ]
  },
  {
   "cell_type": "code",
   "execution_count": 310,
   "metadata": {},
   "outputs": [
    {
     "data": {
      "image/png": "[encoded data removed]",
      "text/plain": [
       "<Figure size 720x360 with 1 Axes>"
      ]
     },
     "metadata": {
      "needs_background": "light"
     },
     "output_type": "display_data"
    }
   ],
   "source": [
    "trial_threshold = np.arange(0.1, 1.1, 0.1)\n",
    "IF_acc_list = []\n",
    "IF_rec_list = []\n",
    "IF_pre_list = []\n",
    "IF_f1_list = []\n",
    "\n",
    "for threshold in trial_threshold:\n",
    "    y_pred = []\n",
    "    for orig in X_test_1.values:\n",
    "        error = reconstruction_error(orig, model)\n",
    "        if error < threshold:\n",
    "            y_pred.append(0)\n",
    "        else:\n",
    "            y_pred.append(1)\n",
    "    IF_acc_list.append(accuracy_score(y_test_1, y_pred))\n",
    "    IF_rec_list.append(recall_score(y_test_1, y_pred))\n",
    "    IF_pre_list.append(precision_score(y_test_1, y_pred))\n",
    "    IF_f1_list.append(f1_score(y_test_1, y_pred))\n",
    "    \n",
    "fig = plt.figure(figsize = (10, 5))\n",
    "\n",
    "ax1 = fig.add_subplot(1, 1, 1)\n",
    "ax1.plot(trial_threshold, IF_acc_list, marker = 'o', label = 'acc')\n",
    "ax1.plot(trial_threshold, IF_rec_list, marker = 'o', label = 'rec')\n",
    "ax1.plot(trial_threshold, IF_pre_list, marker = 'o', label = 'pre')\n",
    "ax1.plot(trial_threshold, IF_f1_list, marker = 'o', label = 'f1')\n",
    "ax1.set_xticks(trial_threshold)\n",
    "ax1.set_xlabel('threshold')\n",
    "ax1.set_ylabel('metrics')\n",
    "ax1.grid()\n",
    "ax1.legend()\n",
    "ax1.set_title('threshold vs metrics')\n",
    "\n",
    "plt.show()"
   ]
  },
  {
   "cell_type": "code",
   "execution_count": 313,
   "metadata": {},
   "outputs": [
    {
     "name": "stdout",
     "output_type": "stream",
     "text": [
      "Accuracy: 0.8823867757021032\n",
      " Recall: 0.9281437125748503\n",
      " Precision: 0.06213670074163159\n",
      " F1 score: 0.11647567161375165\n",
      "[[34974  4679]\n",
      " [   24   310]]\n"
     ]
    }
   ],
   "source": [
    "y_pred = []\n",
    "for orig in X_test_2.values:\n",
    "    error = reconstruction_error(orig, model)\n",
    "    if error < 0.5:\n",
    "        y_pred.append(0)\n",
    "    else:\n",
    "        y_pred.append(1)\n",
    "print(f'Accuracy: {accuracy_score(y_test_2, y_pred)}\\n Recall: {recall_score(y_test_2, y_pred)}\\n Precision: {precision_score(y_test_2, y_pred)}\\n F1 score: {f1_score(y_test_2, y_pred)}')\n",
    "print(confusion_matrix(y_test_2, y_pred))\n"
   ]
  },
  {
   "cell_type": "markdown",
   "metadata": {},
   "source": [
    "**Remark**"
   ]
  },
  {
   "cell_type": "markdown",
   "metadata": {},
   "source": [
    "Because the training, val and test data for the two supervised machine learning models (MLP and gradient boosting) are the same, their results are directly comparable. They roughly have the same performence: both got a recall of ~93%. Due to the different ways of splitting the data for the unsupervised models, their results are not directly comparable."
   ]
  },
  {
   "cell_type": "markdown",
   "metadata": {},
   "source": [
    "For the unsupervised models, a general trend is that there is always a trade-off between precision and recall. If the criterion of regarding a transaction as fraudulent is higher, there is generally a higher precision but lower recall and vice versa. The precision is generally low because the test data is very imbalanced, which resembles the real world data. Depends on what our goal is we may choose an appropriate value for the parameter to achieve our goal. For instance, in one real world situation we may decide to detect as much positive samples as possible even in the cost of having a bit more false positives. Then we may use other procedures or human intervention to further investigate the transactions in these candidates that are far less than the original number of transactions and send a warning to the holder of the credit card with suspicious transactions. In this case, we may prefer a relatively higher recall."
   ]
  },
  {
   "cell_type": "code",
   "execution_count": null,
   "metadata": {},
   "outputs": [],
   "source": []
  }
 ],
 "metadata": {
  "colab": {
   "authorship_tag": "ABX9TyMsr5cT4nGEybYESEmFAYWl",
   "collapsed_sections": [],
   "name": "BBox Regression.ipynb",
   "provenance": []
  },
  "kernelspec": {
   "display_name": "Python 3",
   "language": "python",
   "name": "python3"
  },
  "language_info": {
   "codemirror_mode": {
    "name": "ipython",
    "version": 3
   },
   "file_extension": ".py",
   "mimetype": "text/x-python",
   "name": "python",
   "nbconvert_exporter": "python",
   "pygments_lexer": "ipython3",
   "version": "3.7.2"
  }
 },
 "nbformat": 4,
 "nbformat_minor": 1
}
